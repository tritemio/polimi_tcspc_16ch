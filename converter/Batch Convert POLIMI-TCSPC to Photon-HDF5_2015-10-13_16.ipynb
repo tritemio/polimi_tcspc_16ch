{
 "cells": [
  {
   "cell_type": "markdown",
   "metadata": {
    "deletable": true,
    "editable": true
   },
   "source": [
    "# 1. Definitions"
   ]
  },
  {
   "cell_type": "code",
   "execution_count": 14,
   "metadata": {
    "collapsed": true,
    "deletable": true,
    "editable": true
   },
   "outputs": [],
   "source": [
    "basepath = r'E:\\Data\\Antonio\\data\\POLIMI-TCSPC-16ch\\2015-10-13'"
   ]
  },
  {
   "cell_type": "code",
   "execution_count": 2,
   "metadata": {
    "collapsed": true,
    "deletable": true,
    "editable": true
   },
   "outputs": [],
   "source": [
    "%matplotlib inline\n",
    "from pathlib import Path\n",
    "import yaml\n",
    "import numpy as np\n",
    "import matplotlib.pyplot as plt\n",
    "import seaborn as sns\n",
    "sns.set_context(\"notebook\", font_scale=1.2, rc={\"lines.linewidth\": 1.5})"
   ]
  },
  {
   "cell_type": "code",
   "execution_count": 3,
   "metadata": {
    "collapsed": false,
    "deletable": true,
    "editable": true
   },
   "outputs": [
    {
     "name": "stdout",
     "output_type": "stream",
     "text": [
      "0.7.3+21.g9ade74b\n"
     ]
    }
   ],
   "source": [
    "import phconvert as phc\n",
    "import polimi_tcspc\n",
    "print(phc.__version__)"
   ]
  },
  {
   "cell_type": "code",
   "execution_count": 4,
   "metadata": {
    "collapsed": false,
    "deletable": true,
    "editable": true
   },
   "outputs": [],
   "source": [
    "def save_polimi_tcspc_to_photon_hdf5(filename, sample=None, setup=None, description=None, \n",
    "                                     validate=False):\n",
    "    hardware = ('POLIMI-TCSPC module 16-CH [Pos1: 0403FE6A (ch 1-8), Pos3: 0403F16A (ch 9-16)]; '\n",
    "                'Manta 0403DAE6.')\n",
    "    if description is None:\n",
    "        description = hardware\n",
    "\n",
    "    filename = str(Path(filename))\n",
    "    data, header_info = polimi_tcspc.loadfile(filename)\n",
    "    timestamps_m = data['timestamps']\n",
    "    nanotimes = data['nanotimes']\n",
    "    channels = data['channels']\n",
    "    timestamps_unit = 1/header_info['timestamps_clock_Hz']\n",
    "    acquisition_duration = (np.max([t.max() for t in timestamps_m]) - \n",
    "                            np.min([t.min() for t in timestamps_m])) * timestamps_unit\n",
    "    \n",
    "    d = {}\n",
    "    tcspc_num_bins = 2**14\n",
    "    for ch in range(16):\n",
    "        ch_mask = channels == ch\n",
    "        tcspc_unit = header_info['tcspc_binwidths_ps'][ch]*1e-12\n",
    "\n",
    "        photon_data = dict(\n",
    "            timestamps = timestamps_m[ch],\n",
    "            timestamps_specs = dict(timestamps_unit=timestamps_unit),\n",
    "            detectors = channels[ch_mask],\n",
    "\n",
    "            nanotimes = nanotimes[ch_mask],\n",
    "\n",
    "            nanotimes_specs = dict(\n",
    "                tcspc_unit = tcspc_unit,\n",
    "                tcspc_range = tcspc_unit*tcspc_num_bins,\n",
    "                tcspc_num_bins = tcspc_num_bins))\n",
    "\n",
    "        d['photon_data%d' % ch] = photon_data\n",
    "\n",
    "    d['description'] = description    \n",
    "    d['acquisition_duration'] = acquisition_duration\n",
    "    d['_filename'] = filename\n",
    "    d['identity'] = {}\n",
    "\n",
    "    if sample is not None:\n",
    "        d['sample'] = sample\n",
    "    \n",
    "    d['setup'] = {'num_pixels': header_info['num_channels'], \n",
    "                  'num_spots': header_info['num_channels'], \n",
    "                  'num_spectral_ch': 1, 'num_polarization_ch': 1, 'num_split_ch': 1,\n",
    "                  'modulated_excitation': False, 'lifetime': True,\n",
    "                  'excitation_wavelengths': [532e-9], 'excitation_cw': [False],\n",
    "                  'detection_wavelengths': [580e-9],\n",
    "                  'excitation_alternated': (False,),\n",
    "                  'user': {'name': hardware}}\n",
    "    if setup is not None:\n",
    "        d['setup'].update(setup)\n",
    "    \n",
    "    phc.hdf5.save_photon_hdf5(d, overwrite=True, validate=validate, skip_measurement_specs=False)"
   ]
  },
  {
   "cell_type": "markdown",
   "metadata": {
    "deletable": true,
    "editable": true
   },
   "source": [
    "# 2. Check FIFO-full flags"
   ]
  },
  {
   "cell_type": "code",
   "execution_count": 43,
   "metadata": {
    "collapsed": true,
    "deletable": true,
    "editable": true
   },
   "outputs": [],
   "source": [
    "basepath = r'E:\\Data\\Antonio\\data\\POLIMI-TCSPC-16ch\\2015-10-16'"
   ]
  },
  {
   "cell_type": "code",
   "execution_count": 44,
   "metadata": {
    "collapsed": false,
    "deletable": true,
    "editable": true
   },
   "outputs": [
    {
     "name": "stdout",
     "output_type": "stream",
     "text": [
      "\n",
      " - data\\POLIMI-TCSPC-16ch\\2015-10-16\\Cy3B-10X-ND2.4_4lambda_waveplate_3.dat\n",
      "\n",
      " - data\\POLIMI-TCSPC-16ch\\2015-10-16\\Cy3B-10X-ND2.4_NO_4lambda_waveplate_4.dat\n",
      "\n",
      " - data\\POLIMI-TCSPC-16ch\\2015-10-16\\ErythrosineB-H2O-filtered-saturated-KI-quenched-ND3_2.dat\n",
      "\n",
      " - data\\POLIMI-TCSPC-16ch\\2015-10-16\\ErythrosineB-H2O-filtered-saturated-ND2.4_1.dat\n"
     ]
    }
   ],
   "source": [
    "for file in Path(basepath).glob('**/*.dat'):\n",
    "    if not polimi_tcspc.is_polimi_tcspc(str(file)): \n",
    "        continue\n",
    "\n",
    "    print('\\n - %s' % Path(*file.parts[3:]), flush=True)\n",
    "    fifo_full = polimi_tcspc.get_fifo_full_array(str(file))\n",
    "    \n",
    "    if fifo_full.any():\n",
    "        print('     * FIFO Full!', flush=True)"
   ]
  },
  {
   "cell_type": "code",
   "execution_count": 34,
   "metadata": {
    "collapsed": true,
    "deletable": true,
    "editable": true
   },
   "outputs": [],
   "source": [
    "basepath = r'E:\\Data\\Antonio\\data\\POLIMI-TCSPC-16ch\\2015-10-13'"
   ]
  },
  {
   "cell_type": "code",
   "execution_count": 15,
   "metadata": {
    "collapsed": false,
    "deletable": true,
    "editable": true
   },
   "outputs": [
    {
     "name": "stdout",
     "output_type": "stream",
     "text": [
      "\n",
      " - data\\POLIMI-TCSPC-16ch\\2015-10-13\\ErythrosinB_high_conc_1.dat\n",
      "\n",
      " - data\\POLIMI-TCSPC-16ch\\2015-10-13\\ErythrosinB_sample2_3.dat\n",
      "     * FIFO Full!\n",
      "\n",
      " - data\\POLIMI-TCSPC-16ch\\2015-10-13\\IRF-glass-air-BP-ND3_5.dat\n",
      "\n",
      " - data\\POLIMI-TCSPC-16ch\\2015-10-13\\IRF-glass-air-LP_BP_4.dat\n",
      "\n",
      " - data\\POLIMI-TCSPC-16ch\\2015-10-13\\IRF-glass-air-ND1_BP_2.dat\n"
     ]
    }
   ],
   "source": [
    "for file in Path(basepath).glob('**/*.dat'):\n",
    "    if not polimi_tcspc.is_polimi_tcspc(str(file)): \n",
    "        continue\n",
    "\n",
    "    print('\\n - %s' % Path(*file.parts[3:]), flush=True)\n",
    "    fifo_full = polimi_tcspc.get_fifo_full_array(str(file))\n",
    "    \n",
    "    if fifo_full.any():\n",
    "        print('     * FIFO Full!', flush=True)"
   ]
  },
  {
   "cell_type": "markdown",
   "metadata": {
    "deletable": true,
    "editable": true
   },
   "source": [
    "# 3. Convert a single file"
   ]
  },
  {
   "cell_type": "code",
   "execution_count": 34,
   "metadata": {
    "collapsed": true,
    "deletable": true,
    "editable": true
   },
   "outputs": [],
   "source": [
    "basepath = r'E:\\Data\\Antonio\\data\\POLIMI-TCSPC-16ch\\2015-10-16'"
   ]
  },
  {
   "cell_type": "code",
   "execution_count": 35,
   "metadata": {
    "collapsed": true,
    "deletable": true,
    "editable": true
   },
   "outputs": [],
   "source": [
    "datafile = Path(basepath, r'ErythrosineB-H2O-filtered-saturated-ND2.4_1.dat')"
   ]
  },
  {
   "cell_type": "code",
   "execution_count": 36,
   "metadata": {
    "collapsed": false,
    "deletable": true,
    "editable": true
   },
   "outputs": [],
   "source": [
    "assert datafile.exists()"
   ]
  },
  {
   "cell_type": "code",
   "execution_count": 37,
   "metadata": {
    "collapsed": false,
    "deletable": true,
    "editable": true
   },
   "outputs": [],
   "source": [
    "sample = {'sample_name': 'ErythrosineB in H2O saturated with KI for lifetime quenching.',\n",
    "          'num_dyes': 1,\n",
    "          'dye_names': 'ErythrosineB',\n",
    "          'buffer_name': 'Filtered water saturated with KI'}\n",
    "\n",
    "setup = {'excitation_input_powers': [400e-6]}\n",
    "\n",
    "description = 'High-concentraction of ErythrosineB in KI saturated solution for testing short lifetimes.'"
   ]
  },
  {
   "cell_type": "code",
   "execution_count": 38,
   "metadata": {
    "collapsed": false,
    "deletable": true,
    "editable": true
   },
   "outputs": [
    {
     "name": "stdout",
     "output_type": "stream",
     "text": [
      "Saving: E:\\Data\\Antonio\\data\\POLIMI-TCSPC-16ch\\2015-10-16\\ErythrosineB-H2O-filtered-saturated-ND2.4_1.hdf5\n",
      "Photon-HDF5 WARNING: Missing field \"author\" in \"/identity\".\n",
      "Photon-HDF5 WARNING: Missing field \"author_affiliation\" in \"/identity\".\n",
      "Photon-HDF5 WARNING: Missing field \"measurement_specs\" in \"/photon_data0\".\n",
      "Photon-HDF5 WARNING: Missing field \"measurement_specs\" in \"/photon_data1\".\n",
      "Photon-HDF5 WARNING: Missing field \"measurement_specs\" in \"/photon_data2\".\n",
      "Photon-HDF5 WARNING: Missing field \"measurement_specs\" in \"/photon_data3\".\n",
      "Photon-HDF5 WARNING: Missing field \"measurement_specs\" in \"/photon_data4\".\n",
      "Photon-HDF5 WARNING: Missing field \"measurement_specs\" in \"/photon_data5\".\n",
      "Photon-HDF5 WARNING: Missing field \"measurement_specs\" in \"/photon_data6\".\n",
      "Photon-HDF5 WARNING: Missing field \"measurement_specs\" in \"/photon_data7\".\n",
      "Photon-HDF5 WARNING: Missing field \"measurement_specs\" in \"/photon_data8\".\n",
      "Photon-HDF5 WARNING: Missing field \"measurement_specs\" in \"/photon_data9\".\n",
      "Photon-HDF5 WARNING: Missing field \"measurement_specs\" in \"/photon_data10\".\n",
      "Photon-HDF5 WARNING: Missing field \"measurement_specs\" in \"/photon_data11\".\n",
      "Photon-HDF5 WARNING: Missing field \"measurement_specs\" in \"/photon_data12\".\n",
      "Photon-HDF5 WARNING: Missing field \"measurement_specs\" in \"/photon_data13\".\n",
      "Photon-HDF5 WARNING: Missing field \"measurement_specs\" in \"/photon_data14\".\n",
      "Photon-HDF5 WARNING: Missing field \"measurement_specs\" in \"/photon_data15\".\n"
     ]
    }
   ],
   "source": [
    "save_polimi_tcspc_to_photon_hdf5(datafile, sample=sample, setup=setup, description=description, \n",
    "                                 validate=True)"
   ]
  },
  {
   "cell_type": "code",
   "execution_count": 39,
   "metadata": {
    "collapsed": true,
    "deletable": true,
    "editable": true
   },
   "outputs": [],
   "source": [
    "datafile = Path(basepath, r'ErythrosineB-H2O-filtered-saturated-KI-quenched-ND3_2.dat')"
   ]
  },
  {
   "cell_type": "code",
   "execution_count": 40,
   "metadata": {
    "collapsed": false,
    "deletable": true,
    "editable": true
   },
   "outputs": [],
   "source": [
    "assert datafile.exists()"
   ]
  },
  {
   "cell_type": "code",
   "execution_count": 41,
   "metadata": {
    "collapsed": false,
    "deletable": true,
    "editable": true
   },
   "outputs": [],
   "source": [
    "sample = {'sample_name': 'ErythrosineB in H2O saturated with KI for lifetime quenching.',\n",
    "          'num_dyes': 1,\n",
    "          'dye_names': 'ErythrosineB',\n",
    "          'buffer_name': 'Filtered water saturated with KI'}\n",
    "\n",
    "setup = {'excitation_input_powers': [100e-6]}\n",
    "\n",
    "description = 'High-concentraction of ErythrosineB in KI saturated solution for testing short lifetimes.'"
   ]
  },
  {
   "cell_type": "code",
   "execution_count": 42,
   "metadata": {
    "collapsed": false,
    "deletable": true,
    "editable": true
   },
   "outputs": [
    {
     "name": "stdout",
     "output_type": "stream",
     "text": [
      "Saving: E:\\Data\\Antonio\\data\\POLIMI-TCSPC-16ch\\2015-10-16\\ErythrosineB-H2O-filtered-saturated-KI-quenched-ND3_2.hdf5\n",
      "Photon-HDF5 WARNING: Missing field \"author\" in \"/identity\".\n",
      "Photon-HDF5 WARNING: Missing field \"author_affiliation\" in \"/identity\".\n",
      "Photon-HDF5 WARNING: Missing field \"measurement_specs\" in \"/photon_data0\".\n",
      "Photon-HDF5 WARNING: Missing field \"measurement_specs\" in \"/photon_data1\".\n",
      "Photon-HDF5 WARNING: Missing field \"measurement_specs\" in \"/photon_data2\".\n",
      "Photon-HDF5 WARNING: Missing field \"measurement_specs\" in \"/photon_data3\".\n",
      "Photon-HDF5 WARNING: Missing field \"measurement_specs\" in \"/photon_data4\".\n",
      "Photon-HDF5 WARNING: Missing field \"measurement_specs\" in \"/photon_data5\".\n",
      "Photon-HDF5 WARNING: Missing field \"measurement_specs\" in \"/photon_data6\".\n",
      "Photon-HDF5 WARNING: Missing field \"measurement_specs\" in \"/photon_data7\".\n",
      "Photon-HDF5 WARNING: Missing field \"measurement_specs\" in \"/photon_data8\".\n",
      "Photon-HDF5 WARNING: Missing field \"measurement_specs\" in \"/photon_data9\".\n",
      "Photon-HDF5 WARNING: Missing field \"measurement_specs\" in \"/photon_data10\".\n",
      "Photon-HDF5 WARNING: Missing field \"measurement_specs\" in \"/photon_data11\".\n",
      "Photon-HDF5 WARNING: Missing field \"measurement_specs\" in \"/photon_data12\".\n",
      "Photon-HDF5 WARNING: Missing field \"measurement_specs\" in \"/photon_data13\".\n",
      "Photon-HDF5 WARNING: Missing field \"measurement_specs\" in \"/photon_data14\".\n",
      "Photon-HDF5 WARNING: Missing field \"measurement_specs\" in \"/photon_data15\".\n"
     ]
    }
   ],
   "source": [
    "save_polimi_tcspc_to_photon_hdf5(datafile, sample=sample, setup=setup, description=description, \n",
    "                                 validate=True)"
   ]
  },
  {
   "cell_type": "code",
   "execution_count": 16,
   "metadata": {
    "collapsed": true,
    "deletable": true,
    "editable": true
   },
   "outputs": [],
   "source": [
    "basepath = r'E:\\Data\\Antonio\\data\\POLIMI-TCSPC-16ch\\2015-10-13'"
   ]
  },
  {
   "cell_type": "code",
   "execution_count": 17,
   "metadata": {
    "collapsed": true,
    "deletable": true,
    "editable": true
   },
   "outputs": [],
   "source": [
    "datafile = Path(basepath, r'IRF-glass-air-BP-ND3_5.dat')"
   ]
  },
  {
   "cell_type": "code",
   "execution_count": 18,
   "metadata": {
    "collapsed": false,
    "deletable": true,
    "editable": true
   },
   "outputs": [],
   "source": [
    "assert datafile.exists()"
   ]
  },
  {
   "cell_type": "code",
   "execution_count": 19,
   "metadata": {
    "collapsed": false,
    "deletable": true,
    "editable": true
   },
   "outputs": [
    {
     "name": "stdout",
     "output_type": "stream",
     "text": [
      "Saving: E:\\Data\\Antonio\\data\\POLIMI-TCSPC-16ch\\2015-10-13\\IRF-glass-air-BP-ND3_5.hdf5\n",
      "Photon-HDF5 WARNING: Missing field \"author\" in \"/identity\".\n",
      "Photon-HDF5 WARNING: Missing field \"author_affiliation\" in \"/identity\".\n",
      "Photon-HDF5 WARNING: Missing field \"measurement_specs\" in \"/photon_data0\".\n",
      "Photon-HDF5 WARNING: Missing field \"measurement_specs\" in \"/photon_data1\".\n",
      "Photon-HDF5 WARNING: Missing field \"measurement_specs\" in \"/photon_data2\".\n",
      "Photon-HDF5 WARNING: Missing field \"measurement_specs\" in \"/photon_data3\".\n",
      "Photon-HDF5 WARNING: Missing field \"measurement_specs\" in \"/photon_data4\".\n",
      "Photon-HDF5 WARNING: Missing field \"measurement_specs\" in \"/photon_data5\".\n",
      "Photon-HDF5 WARNING: Missing field \"measurement_specs\" in \"/photon_data6\".\n",
      "Photon-HDF5 WARNING: Missing field \"measurement_specs\" in \"/photon_data7\".\n",
      "Photon-HDF5 WARNING: Missing field \"measurement_specs\" in \"/photon_data8\".\n",
      "Photon-HDF5 WARNING: Missing field \"measurement_specs\" in \"/photon_data9\".\n",
      "Photon-HDF5 WARNING: Missing field \"measurement_specs\" in \"/photon_data10\".\n",
      "Photon-HDF5 WARNING: Missing field \"measurement_specs\" in \"/photon_data11\".\n",
      "Photon-HDF5 WARNING: Missing field \"measurement_specs\" in \"/photon_data12\".\n",
      "Photon-HDF5 WARNING: Missing field \"measurement_specs\" in \"/photon_data13\".\n",
      "Photon-HDF5 WARNING: Missing field \"measurement_specs\" in \"/photon_data14\".\n",
      "Photon-HDF5 WARNING: Missing field \"measurement_specs\" in \"/photon_data15\".\n"
     ]
    }
   ],
   "source": [
    "save_polimi_tcspc_to_photon_hdf5(datafile, description='IRF measurement', \n",
    "                                 validate=True)"
   ]
  },
  {
   "cell_type": "code",
   "execution_count": 20,
   "metadata": {
    "collapsed": true,
    "deletable": true,
    "editable": true
   },
   "outputs": [],
   "source": [
    "datafile = Path(basepath, r'IRF-glass-air-LP_BP_4.dat')"
   ]
  },
  {
   "cell_type": "code",
   "execution_count": 21,
   "metadata": {
    "collapsed": false,
    "deletable": true,
    "editable": true
   },
   "outputs": [],
   "source": [
    "assert datafile.exists()"
   ]
  },
  {
   "cell_type": "code",
   "execution_count": 22,
   "metadata": {
    "collapsed": false,
    "deletable": true,
    "editable": true
   },
   "outputs": [
    {
     "name": "stdout",
     "output_type": "stream",
     "text": [
      "Saving: E:\\Data\\Antonio\\data\\POLIMI-TCSPC-16ch\\2015-10-13\\IRF-glass-air-LP_BP_4.hdf5\n",
      "Photon-HDF5 WARNING: Missing field \"author\" in \"/identity\".\n",
      "Photon-HDF5 WARNING: Missing field \"author_affiliation\" in \"/identity\".\n",
      "Photon-HDF5 WARNING: Missing field \"measurement_specs\" in \"/photon_data0\".\n",
      "Photon-HDF5 WARNING: Missing field \"measurement_specs\" in \"/photon_data1\".\n",
      "Photon-HDF5 WARNING: Missing field \"measurement_specs\" in \"/photon_data2\".\n",
      "Photon-HDF5 WARNING: Missing field \"measurement_specs\" in \"/photon_data3\".\n",
      "Photon-HDF5 WARNING: Missing field \"measurement_specs\" in \"/photon_data4\".\n",
      "Photon-HDF5 WARNING: Missing field \"measurement_specs\" in \"/photon_data5\".\n",
      "Photon-HDF5 WARNING: Missing field \"measurement_specs\" in \"/photon_data6\".\n",
      "Photon-HDF5 WARNING: Missing field \"measurement_specs\" in \"/photon_data7\".\n",
      "Photon-HDF5 WARNING: Missing field \"measurement_specs\" in \"/photon_data8\".\n",
      "Photon-HDF5 WARNING: Missing field \"measurement_specs\" in \"/photon_data9\".\n",
      "Photon-HDF5 WARNING: Missing field \"measurement_specs\" in \"/photon_data10\".\n",
      "Photon-HDF5 WARNING: Missing field \"measurement_specs\" in \"/photon_data11\".\n",
      "Photon-HDF5 WARNING: Missing field \"measurement_specs\" in \"/photon_data12\".\n",
      "Photon-HDF5 WARNING: Missing field \"measurement_specs\" in \"/photon_data13\".\n",
      "Photon-HDF5 WARNING: Missing field \"measurement_specs\" in \"/photon_data14\".\n",
      "Photon-HDF5 WARNING: Missing field \"measurement_specs\" in \"/photon_data15\".\n"
     ]
    }
   ],
   "source": [
    "save_polimi_tcspc_to_photon_hdf5(datafile, description='IRF measurement', \n",
    "                                 validate=True)"
   ]
  },
  {
   "cell_type": "code",
   "execution_count": 23,
   "metadata": {
    "collapsed": true,
    "deletable": true,
    "editable": true
   },
   "outputs": [],
   "source": [
    "datafile = Path(basepath, r'IRF-glass-air-ND1_BP_2.dat')"
   ]
  },
  {
   "cell_type": "code",
   "execution_count": 24,
   "metadata": {
    "collapsed": false,
    "deletable": true,
    "editable": true
   },
   "outputs": [],
   "source": [
    "assert datafile.exists()"
   ]
  },
  {
   "cell_type": "code",
   "execution_count": 25,
   "metadata": {
    "collapsed": false,
    "deletable": true,
    "editable": true
   },
   "outputs": [
    {
     "name": "stdout",
     "output_type": "stream",
     "text": [
      "Saving: E:\\Data\\Antonio\\data\\POLIMI-TCSPC-16ch\\2015-10-13\\IRF-glass-air-ND1_BP_2.hdf5\n",
      "Photon-HDF5 WARNING: Missing field \"author\" in \"/identity\".\n",
      "Photon-HDF5 WARNING: Missing field \"author_affiliation\" in \"/identity\".\n",
      "Photon-HDF5 WARNING: Missing field \"measurement_specs\" in \"/photon_data0\".\n",
      "Photon-HDF5 WARNING: Missing field \"measurement_specs\" in \"/photon_data1\".\n",
      "Photon-HDF5 WARNING: Missing field \"measurement_specs\" in \"/photon_data2\".\n",
      "Photon-HDF5 WARNING: Missing field \"measurement_specs\" in \"/photon_data3\".\n",
      "Photon-HDF5 WARNING: Missing field \"measurement_specs\" in \"/photon_data4\".\n",
      "Photon-HDF5 WARNING: Missing field \"measurement_specs\" in \"/photon_data5\".\n",
      "Photon-HDF5 WARNING: Missing field \"measurement_specs\" in \"/photon_data6\".\n",
      "Photon-HDF5 WARNING: Missing field \"measurement_specs\" in \"/photon_data7\".\n",
      "Photon-HDF5 WARNING: Missing field \"measurement_specs\" in \"/photon_data8\".\n",
      "Photon-HDF5 WARNING: Missing field \"measurement_specs\" in \"/photon_data9\".\n",
      "Photon-HDF5 WARNING: Missing field \"measurement_specs\" in \"/photon_data10\".\n",
      "Photon-HDF5 WARNING: Missing field \"measurement_specs\" in \"/photon_data11\".\n",
      "Photon-HDF5 WARNING: Missing field \"measurement_specs\" in \"/photon_data12\".\n",
      "Photon-HDF5 WARNING: Missing field \"measurement_specs\" in \"/photon_data13\".\n",
      "Photon-HDF5 WARNING: Missing field \"measurement_specs\" in \"/photon_data14\".\n",
      "Photon-HDF5 WARNING: Missing field \"measurement_specs\" in \"/photon_data15\".\n"
     ]
    }
   ],
   "source": [
    "save_polimi_tcspc_to_photon_hdf5(datafile, description='IRF measurement', \n",
    "                                 validate=True)"
   ]
  },
  {
   "cell_type": "code",
   "execution_count": 26,
   "metadata": {
    "collapsed": true,
    "deletable": true,
    "editable": true
   },
   "outputs": [],
   "source": [
    "datafile = Path(basepath, r'ErythrosinB_high_conc_1.dat')"
   ]
  },
  {
   "cell_type": "code",
   "execution_count": 27,
   "metadata": {
    "collapsed": false,
    "deletable": true,
    "editable": true
   },
   "outputs": [],
   "source": [
    "assert datafile.exists()"
   ]
  },
  {
   "cell_type": "code",
   "execution_count": 28,
   "metadata": {
    "collapsed": false,
    "deletable": true,
    "editable": true
   },
   "outputs": [],
   "source": [
    "sample = {'sample_name': 'ErythrosineB at high concentration .',\n",
    "          'num_dyes': 1,\n",
    "          'dye_names': 'ErythrosineB',\n",
    "          'buffer_name': 'Filtered water'}\n",
    "\n",
    "setup = {'excitation_input_powers': [0.1]}\n",
    "\n",
    "description = 'High-concentraction of ErythrosineB for testing short lifetimes.'"
   ]
  },
  {
   "cell_type": "code",
   "execution_count": 29,
   "metadata": {
    "collapsed": false,
    "deletable": true,
    "editable": true
   },
   "outputs": [
    {
     "name": "stdout",
     "output_type": "stream",
     "text": [
      "Saving: E:\\Data\\Antonio\\data\\POLIMI-TCSPC-16ch\\2015-10-13\\ErythrosinB_high_conc_1.hdf5\n",
      "Photon-HDF5 WARNING: Missing field \"author\" in \"/identity\".\n",
      "Photon-HDF5 WARNING: Missing field \"author_affiliation\" in \"/identity\".\n",
      "Photon-HDF5 WARNING: Missing field \"measurement_specs\" in \"/photon_data0\".\n",
      "Photon-HDF5 WARNING: Missing field \"measurement_specs\" in \"/photon_data1\".\n",
      "Photon-HDF5 WARNING: Missing field \"measurement_specs\" in \"/photon_data2\".\n",
      "Photon-HDF5 WARNING: Missing field \"measurement_specs\" in \"/photon_data3\".\n",
      "Photon-HDF5 WARNING: Missing field \"measurement_specs\" in \"/photon_data4\".\n",
      "Photon-HDF5 WARNING: Missing field \"measurement_specs\" in \"/photon_data5\".\n",
      "Photon-HDF5 WARNING: Missing field \"measurement_specs\" in \"/photon_data6\".\n",
      "Photon-HDF5 WARNING: Missing field \"measurement_specs\" in \"/photon_data7\".\n",
      "Photon-HDF5 WARNING: Missing field \"measurement_specs\" in \"/photon_data8\".\n",
      "Photon-HDF5 WARNING: Missing field \"measurement_specs\" in \"/photon_data9\".\n",
      "Photon-HDF5 WARNING: Missing field \"measurement_specs\" in \"/photon_data10\".\n",
      "Photon-HDF5 WARNING: Missing field \"measurement_specs\" in \"/photon_data11\".\n",
      "Photon-HDF5 WARNING: Missing field \"measurement_specs\" in \"/photon_data12\".\n",
      "Photon-HDF5 WARNING: Missing field \"measurement_specs\" in \"/photon_data13\".\n",
      "Photon-HDF5 WARNING: Missing field \"measurement_specs\" in \"/photon_data14\".\n",
      "Photon-HDF5 WARNING: Missing field \"measurement_specs\" in \"/photon_data15\".\n"
     ]
    }
   ],
   "source": [
    "save_polimi_tcspc_to_photon_hdf5(datafile, sample=sample, setup=setup, description=description, \n",
    "                                 validate=True)"
   ]
  },
  {
   "cell_type": "code",
   "execution_count": 30,
   "metadata": {
    "collapsed": true,
    "deletable": true,
    "editable": true
   },
   "outputs": [],
   "source": [
    "datafile = Path(basepath, r'ErythrosinB_sample2_3.dat')"
   ]
  },
  {
   "cell_type": "code",
   "execution_count": 31,
   "metadata": {
    "collapsed": false,
    "deletable": true,
    "editable": true
   },
   "outputs": [],
   "source": [
    "assert datafile.exists()"
   ]
  },
  {
   "cell_type": "code",
   "execution_count": 32,
   "metadata": {
    "collapsed": false,
    "deletable": true,
    "editable": true
   },
   "outputs": [],
   "source": [
    "sample = {'sample_name': 'ErythrosineB at high concentration .',\n",
    "          'num_dyes': 1,\n",
    "          'dye_names': 'ErythrosineB',\n",
    "          'buffer_name': 'Filtered water'}\n",
    "\n",
    "setup = {'excitation_input_powers': [0.1]}\n",
    "\n",
    "description = 'High-concentraction of ErythrosineB for testing short lifetimes.'"
   ]
  },
  {
   "cell_type": "code",
   "execution_count": 33,
   "metadata": {
    "collapsed": false,
    "deletable": true,
    "editable": true
   },
   "outputs": [
    {
     "name": "stdout",
     "output_type": "stream",
     "text": [
      "WARNING: Data has gaps (FIFO overflows).\n",
      "Saving: E:\\Data\\Antonio\\data\\POLIMI-TCSPC-16ch\\2015-10-13\\ErythrosinB_sample2_3.hdf5\n",
      "Photon-HDF5 WARNING: Missing field \"author\" in \"/identity\".\n",
      "Photon-HDF5 WARNING: Missing field \"author_affiliation\" in \"/identity\".\n",
      "Photon-HDF5 WARNING: Missing field \"measurement_specs\" in \"/photon_data0\".\n",
      "Photon-HDF5 WARNING: Missing field \"measurement_specs\" in \"/photon_data1\".\n",
      "Photon-HDF5 WARNING: Missing field \"measurement_specs\" in \"/photon_data2\".\n",
      "Photon-HDF5 WARNING: Missing field \"measurement_specs\" in \"/photon_data3\".\n",
      "Photon-HDF5 WARNING: Missing field \"measurement_specs\" in \"/photon_data4\".\n",
      "Photon-HDF5 WARNING: Missing field \"measurement_specs\" in \"/photon_data5\".\n",
      "Photon-HDF5 WARNING: Missing field \"measurement_specs\" in \"/photon_data6\".\n",
      "Photon-HDF5 WARNING: Missing field \"measurement_specs\" in \"/photon_data7\".\n",
      "Photon-HDF5 WARNING: Missing field \"measurement_specs\" in \"/photon_data8\".\n",
      "Photon-HDF5 WARNING: Missing field \"measurement_specs\" in \"/photon_data9\".\n",
      "Photon-HDF5 WARNING: Missing field \"measurement_specs\" in \"/photon_data10\".\n",
      "Photon-HDF5 WARNING: Missing field \"measurement_specs\" in \"/photon_data11\".\n",
      "Photon-HDF5 WARNING: Missing field \"measurement_specs\" in \"/photon_data12\".\n",
      "Photon-HDF5 WARNING: Missing field \"measurement_specs\" in \"/photon_data13\".\n",
      "Photon-HDF5 WARNING: Missing field \"measurement_specs\" in \"/photon_data14\".\n",
      "Photon-HDF5 WARNING: Missing field \"measurement_specs\" in \"/photon_data15\".\n"
     ]
    }
   ],
   "source": [
    "save_polimi_tcspc_to_photon_hdf5(datafile, sample=sample, setup=setup, description=description, \n",
    "                                 validate=True)"
   ]
  },
  {
   "cell_type": "markdown",
   "metadata": {
    "deletable": true,
    "editable": true
   },
   "source": [
    "# 4. Batch conversion for selected files"
   ]
  },
  {
   "cell_type": "code",
   "execution_count": 5,
   "metadata": {
    "collapsed": true,
    "deletable": true,
    "editable": true
   },
   "outputs": [],
   "source": [
    "path = Path(basepath, r'Antonio\\data\\2015-09-08')"
   ]
  },
  {
   "cell_type": "code",
   "execution_count": 6,
   "metadata": {
    "collapsed": false,
    "deletable": true,
    "editable": true
   },
   "outputs": [
    {
     "data": {
      "text/plain": [
       "True"
      ]
     },
     "execution_count": 6,
     "metadata": {},
     "output_type": "execute_result"
    }
   ],
   "source": [
    "metapath = path.joinpath('metadata.yaml')\n",
    "metapath.exists()"
   ]
  },
  {
   "cell_type": "code",
   "execution_count": 7,
   "metadata": {
    "collapsed": false,
    "deletable": true,
    "editable": true
   },
   "outputs": [],
   "source": [
    "metadata = yaml.load(metapath.open())"
   ]
  },
  {
   "cell_type": "code",
   "execution_count": 8,
   "metadata": {
    "collapsed": false,
    "deletable": true,
    "editable": true
   },
   "outputs": [
    {
     "name": "stdout",
     "output_type": "stream",
     "text": [
      "DA_12_D_8_MIX_LP-BP-100mW:\n",
      "  description: 'Mixture of 60% FRET, 40% DO sample, 60uL, 66pM (total). No gasket.\n",
      "\n",
      "    '\n",
      "  sample_da:\n",
      "    buffer_name: TE50\n",
      "    dye_names: ATTO550, ATTO647N\n",
      "    num_dyes: 2\n",
      "    sample_name: Mixture 60% FRET TA(-15)-NTD(-3), 40% DO T-NTD(-3)80bp, 66pM total.\n",
      "  setup: &id001\n",
      "    excitation_input_powers:\n",
      "    - 0.1\n",
      "IRF-TE50-surface-BP-100mW_3:\n",
      "  description: ''\n",
      "  setup: *id001\n",
      "IRF-TE50-surface-plus-BP-100mW_4:\n",
      "  description: ''\n",
      "  setup: *id001\n",
      "T-NTD-3-66pM-60uL-100mW_2:\n",
      "  description: ''\n",
      "  sample: &id002\n",
      "    buffer_name: TE50\n",
      "    dye_names: ATTO550\n",
      "    num_dyes: 1\n",
      "    sample_name: 80bp dsDNA labeled with ATTO550, T-NTD(-3)\n",
      "  setup: *id001\n",
      "TA-15-NT-3_LP-BP-100mW_5:\n",
      "  description: 'Medium FRET sample 20uL no gasket.\n",
      "\n",
      "    '\n",
      "  sample: &id003\n",
      "    buffer_name: TE50\n",
      "    dye_names: ATTO550, ATTO647N\n",
      "    num_dyes: 2\n",
      "    sample_name: 80bp dsDNA, TA(-15)-NTD(-3)\n",
      "  setup: *id001\n",
      "sample_d: *id002\n",
      "sample_da: *id003\n",
      "setup: *id001\n",
      "\n"
     ]
    }
   ],
   "source": [
    "print(yaml.dump(metadata, default_flow_style=False))"
   ]
  },
  {
   "cell_type": "code",
   "execution_count": 9,
   "metadata": {
    "collapsed": false,
    "deletable": true,
    "editable": true,
    "scrolled": true
   },
   "outputs": [],
   "source": [
    "datafiles = [f for f in path.glob('*.dat')]# if 'DNA' not in str(f)]\n",
    "#datafiles"
   ]
  },
  {
   "cell_type": "code",
   "execution_count": 10,
   "metadata": {
    "collapsed": false,
    "deletable": true,
    "editable": true,
    "scrolled": false
   },
   "outputs": [
    {
     "name": "stdout",
     "output_type": "stream",
     "text": [
      "-  C:\\Google Drive on Deliquescent\\Data on Deliquescent\\Antonio\\data\\2015-09-08\\DA_12_D_8_MIX_LP-BP-100mW_6.dat\n",
      "  * META: {'description': None, 'setup': None, 'sample': None}\n",
      "Saving: C:\\Google Drive on Deliquescent\\Data on Deliquescent\\Antonio\\data\\2015-09-08\\DA_12_D_8_MIX_LP-BP-100mW_6.hdf5\n",
      "Photon-HDF5 WARNING: Missing field \"measurement_specs\" in \"/photon_data0\".\n",
      "Photon-HDF5 WARNING: Missing field \"measurement_specs\" in \"/photon_data1\".\n",
      "Photon-HDF5 WARNING: Missing field \"measurement_specs\" in \"/photon_data10\".\n",
      "Photon-HDF5 WARNING: Missing field \"measurement_specs\" in \"/photon_data11\".\n",
      "Photon-HDF5 WARNING: Missing field \"measurement_specs\" in \"/photon_data12\".\n",
      "Photon-HDF5 WARNING: Missing field \"measurement_specs\" in \"/photon_data13\".\n",
      "Photon-HDF5 WARNING: Missing field \"measurement_specs\" in \"/photon_data14\".\n",
      "Photon-HDF5 WARNING: Missing field \"measurement_specs\" in \"/photon_data15\".\n",
      "Photon-HDF5 WARNING: Missing field \"measurement_specs\" in \"/photon_data2\".\n",
      "Photon-HDF5 WARNING: Missing field \"measurement_specs\" in \"/photon_data3\".\n",
      "Photon-HDF5 WARNING: Missing field \"measurement_specs\" in \"/photon_data4\".\n",
      "Photon-HDF5 WARNING: Missing field \"measurement_specs\" in \"/photon_data5\".\n",
      "Photon-HDF5 WARNING: Missing field \"measurement_specs\" in \"/photon_data6\".\n",
      "Photon-HDF5 WARNING: Missing field \"measurement_specs\" in \"/photon_data7\".\n",
      "Photon-HDF5 WARNING: Missing field \"measurement_specs\" in \"/photon_data8\".\n",
      "Photon-HDF5 WARNING: Missing field \"measurement_specs\" in \"/photon_data9\".\n",
      "Photon-HDF5 WARNING: Missing field \"author\" in \"/identity\".\n",
      "Photon-HDF5 WARNING: Missing field \"author_affiliation\" in \"/identity\".\n",
      "-  C:\\Google Drive on Deliquescent\\Data on Deliquescent\\Antonio\\data\\2015-09-08\\IRF-TE50-surface-BP-100mW_3.dat\n",
      "  * META: {'description': '', 'setup': {'excitation_input_powers': [0.1]}}\n",
      "Saving: C:\\Google Drive on Deliquescent\\Data on Deliquescent\\Antonio\\data\\2015-09-08\\IRF-TE50-surface-BP-100mW_3.hdf5\n",
      "Photon-HDF5 WARNING: Missing field \"measurement_specs\" in \"/photon_data0\".\n",
      "Photon-HDF5 WARNING: Missing field \"measurement_specs\" in \"/photon_data1\".\n",
      "Photon-HDF5 WARNING: Missing field \"measurement_specs\" in \"/photon_data10\".\n",
      "Photon-HDF5 WARNING: Missing field \"measurement_specs\" in \"/photon_data11\".\n",
      "Photon-HDF5 WARNING: Missing field \"measurement_specs\" in \"/photon_data12\".\n",
      "Photon-HDF5 WARNING: Missing field \"measurement_specs\" in \"/photon_data13\".\n",
      "Photon-HDF5 WARNING: Missing field \"measurement_specs\" in \"/photon_data14\".\n",
      "Photon-HDF5 WARNING: Missing field \"measurement_specs\" in \"/photon_data15\".\n",
      "Photon-HDF5 WARNING: Missing field \"measurement_specs\" in \"/photon_data2\".\n",
      "Photon-HDF5 WARNING: Missing field \"measurement_specs\" in \"/photon_data3\".\n",
      "Photon-HDF5 WARNING: Missing field \"measurement_specs\" in \"/photon_data4\".\n",
      "Photon-HDF5 WARNING: Missing field \"measurement_specs\" in \"/photon_data5\".\n",
      "Photon-HDF5 WARNING: Missing field \"measurement_specs\" in \"/photon_data6\".\n",
      "Photon-HDF5 WARNING: Missing field \"measurement_specs\" in \"/photon_data7\".\n",
      "Photon-HDF5 WARNING: Missing field \"measurement_specs\" in \"/photon_data8\".\n",
      "Photon-HDF5 WARNING: Missing field \"measurement_specs\" in \"/photon_data9\".\n",
      "Photon-HDF5 WARNING: Missing field \"author\" in \"/identity\".\n",
      "Photon-HDF5 WARNING: Missing field \"author_affiliation\" in \"/identity\".\n",
      "-  C:\\Google Drive on Deliquescent\\Data on Deliquescent\\Antonio\\data\\2015-09-08\\IRF-TE50-surface-plus-BP-100mW_4.dat\n",
      "  * META: {'description': '', 'setup': {'excitation_input_powers': [0.1]}}\n",
      "Saving: C:\\Google Drive on Deliquescent\\Data on Deliquescent\\Antonio\\data\\2015-09-08\\IRF-TE50-surface-plus-BP-100mW_4.hdf5\n",
      "Photon-HDF5 WARNING: Missing field \"measurement_specs\" in \"/photon_data0\".\n",
      "Photon-HDF5 WARNING: Missing field \"measurement_specs\" in \"/photon_data1\".\n",
      "Photon-HDF5 WARNING: Missing field \"measurement_specs\" in \"/photon_data10\".\n",
      "Photon-HDF5 WARNING: Missing field \"measurement_specs\" in \"/photon_data11\".\n",
      "Photon-HDF5 WARNING: Missing field \"measurement_specs\" in \"/photon_data12\".\n",
      "Photon-HDF5 WARNING: Missing field \"measurement_specs\" in \"/photon_data13\".\n",
      "Photon-HDF5 WARNING: Missing field \"measurement_specs\" in \"/photon_data14\".\n",
      "Photon-HDF5 WARNING: Missing field \"measurement_specs\" in \"/photon_data15\".\n",
      "Photon-HDF5 WARNING: Missing field \"measurement_specs\" in \"/photon_data2\".\n",
      "Photon-HDF5 WARNING: Missing field \"measurement_specs\" in \"/photon_data3\".\n",
      "Photon-HDF5 WARNING: Missing field \"measurement_specs\" in \"/photon_data4\".\n",
      "Photon-HDF5 WARNING: Missing field \"measurement_specs\" in \"/photon_data5\".\n",
      "Photon-HDF5 WARNING: Missing field \"measurement_specs\" in \"/photon_data6\".\n",
      "Photon-HDF5 WARNING: Missing field \"measurement_specs\" in \"/photon_data7\".\n",
      "Photon-HDF5 WARNING: Missing field \"measurement_specs\" in \"/photon_data8\".\n",
      "Photon-HDF5 WARNING: Missing field \"measurement_specs\" in \"/photon_data9\".\n",
      "Photon-HDF5 WARNING: Missing field \"author\" in \"/identity\".\n",
      "Photon-HDF5 WARNING: Missing field \"author_affiliation\" in \"/identity\".\n",
      "-  C:\\Google Drive on Deliquescent\\Data on Deliquescent\\Antonio\\data\\2015-09-08\\T-NTD-3-66pM-60uL-100mW_2.dat\n",
      "  * META: {'description': '', 'setup': {'excitation_input_powers': [0.1]}, 'sample': {'dye_names': 'ATTO550', 'buffer_name': 'TE50', 'num_dyes': 1, 'sample_name': '80bp dsDNA labeled with ATTO550, T-NTD(-3)'}}\n",
      "Saving: C:\\Google Drive on Deliquescent\\Data on Deliquescent\\Antonio\\data\\2015-09-08\\T-NTD-3-66pM-60uL-100mW_2.hdf5\n",
      "Photon-HDF5 WARNING: Missing field \"measurement_specs\" in \"/photon_data0\".\n",
      "Photon-HDF5 WARNING: Missing field \"measurement_specs\" in \"/photon_data1\".\n",
      "Photon-HDF5 WARNING: Missing field \"measurement_specs\" in \"/photon_data10\".\n",
      "Photon-HDF5 WARNING: Missing field \"measurement_specs\" in \"/photon_data11\".\n",
      "Photon-HDF5 WARNING: Missing field \"measurement_specs\" in \"/photon_data12\".\n",
      "Photon-HDF5 WARNING: Missing field \"measurement_specs\" in \"/photon_data13\".\n",
      "Photon-HDF5 WARNING: Missing field \"measurement_specs\" in \"/photon_data14\".\n",
      "Photon-HDF5 WARNING: Missing field \"measurement_specs\" in \"/photon_data15\".\n",
      "Photon-HDF5 WARNING: Missing field \"measurement_specs\" in \"/photon_data2\".\n",
      "Photon-HDF5 WARNING: Missing field \"measurement_specs\" in \"/photon_data3\".\n",
      "Photon-HDF5 WARNING: Missing field \"measurement_specs\" in \"/photon_data4\".\n",
      "Photon-HDF5 WARNING: Missing field \"measurement_specs\" in \"/photon_data5\".\n",
      "Photon-HDF5 WARNING: Missing field \"measurement_specs\" in \"/photon_data6\".\n",
      "Photon-HDF5 WARNING: Missing field \"measurement_specs\" in \"/photon_data7\".\n",
      "Photon-HDF5 WARNING: Missing field \"measurement_specs\" in \"/photon_data8\".\n",
      "Photon-HDF5 WARNING: Missing field \"measurement_specs\" in \"/photon_data9\".\n",
      "Photon-HDF5 WARNING: Missing field \"author\" in \"/identity\".\n",
      "Photon-HDF5 WARNING: Missing field \"author_affiliation\" in \"/identity\".\n",
      "-  C:\\Google Drive on Deliquescent\\Data on Deliquescent\\Antonio\\data\\2015-09-08\\TA-15-NT-3_LP-BP-100mW_5.dat\n",
      "  * META: {'description': 'Medium FRET sample 20uL no gasket.\\n', 'setup': {'excitation_input_powers': [0.1]}, 'sample': {'dye_names': 'ATTO550, ATTO647N', 'buffer_name': 'TE50', 'num_dyes': 2, 'sample_name': '80bp dsDNA, TA(-15)-NTD(-3)'}}\n",
      "Saving: C:\\Google Drive on Deliquescent\\Data on Deliquescent\\Antonio\\data\\2015-09-08\\TA-15-NT-3_LP-BP-100mW_5.hdf5\n",
      "Photon-HDF5 WARNING: Missing field \"measurement_specs\" in \"/photon_data0\".\n",
      "Photon-HDF5 WARNING: Missing field \"measurement_specs\" in \"/photon_data1\".\n",
      "Photon-HDF5 WARNING: Missing field \"measurement_specs\" in \"/photon_data10\".\n",
      "Photon-HDF5 WARNING: Missing field \"measurement_specs\" in \"/photon_data11\".\n",
      "Photon-HDF5 WARNING: Missing field \"measurement_specs\" in \"/photon_data12\".\n",
      "Photon-HDF5 WARNING: Missing field \"measurement_specs\" in \"/photon_data13\".\n",
      "Photon-HDF5 WARNING: Missing field \"measurement_specs\" in \"/photon_data14\".\n",
      "Photon-HDF5 WARNING: Missing field \"measurement_specs\" in \"/photon_data15\".\n",
      "Photon-HDF5 WARNING: Missing field \"measurement_specs\" in \"/photon_data2\".\n",
      "Photon-HDF5 WARNING: Missing field \"measurement_specs\" in \"/photon_data3\".\n",
      "Photon-HDF5 WARNING: Missing field \"measurement_specs\" in \"/photon_data4\".\n",
      "Photon-HDF5 WARNING: Missing field \"measurement_specs\" in \"/photon_data5\".\n",
      "Photon-HDF5 WARNING: Missing field \"measurement_specs\" in \"/photon_data6\".\n",
      "Photon-HDF5 WARNING: Missing field \"measurement_specs\" in \"/photon_data7\".\n",
      "Photon-HDF5 WARNING: Missing field \"measurement_specs\" in \"/photon_data8\".\n",
      "Photon-HDF5 WARNING: Missing field \"measurement_specs\" in \"/photon_data9\".\n",
      "Photon-HDF5 WARNING: Missing field \"author\" in \"/identity\".\n",
      "Photon-HDF5 WARNING: Missing field \"author_affiliation\" in \"/identity\".\n"
     ]
    }
   ],
   "source": [
    "metadata_paths = [Path(path, name).with_suffix('.dat') for name in metadata.keys()]\n",
    "for file in datafiles:\n",
    "    print('- ', file, flush=True)\n",
    "    \n",
    "    meta = dict(sample=None, setup=None, description=None)\n",
    "    if file in metadata_paths:\n",
    "        meta = metadata[file.stem]\n",
    "    print('  * META: %s' % meta, flush=True)\n",
    "    save_polimi_tcspc_to_photon_hdf5(file, validate=True, **meta)"
   ]
  },
  {
   "cell_type": "markdown",
   "metadata": {
    "deletable": true,
    "editable": true
   },
   "source": [
    "# 5. Batch conversion of all files"
   ]
  },
  {
   "cell_type": "code",
   "execution_count": null,
   "metadata": {
    "collapsed": false,
    "deletable": true,
    "editable": true,
    "scrolled": false
   },
   "outputs": [],
   "source": [
    "for file in Path(basepath).glob('**/*.dat'):\n",
    "    if not polimi_tcspc.is_polimi_tcspc(str(file)): \n",
    "        continue\n",
    "\n",
    "    print('\\n - %s' % Path(*file.parts[3:]), flush=True)\n",
    "    \n",
    "    if file.with_suffix('.hdf5').exists(): \n",
    "       print('- HDF5 found, skipping.', flush=True)\n",
    "       continue\n",
    "        \n",
    "    meta = dict(sample=None, setup=None, description=None)\n",
    "    metapath = file.parent.joinpath('metadata.yaml')\n",
    "    if metapath.exists():\n",
    "        metadata = yaml.load(metapath.open())\n",
    "        metadata_paths = [Path(metapath.parent, name).with_suffix('.dat') for name in metadata.keys()]\n",
    "        if file in metadata_paths:\n",
    "            meta = metadata[file.stem]\n",
    "    print('  * META: %s' % meta, flush=True)\n",
    "    #save_polimi_tcspc_to_photon_hdf5(filename)"
   ]
  },
  {
   "cell_type": "code",
   "execution_count": 6,
   "metadata": {
    "collapsed": false,
    "deletable": true,
    "editable": true
   },
   "outputs": [
    {
     "name": "stdout",
     "output_type": "stream",
     "text": [
      "OK\n"
     ]
    }
   ],
   "source": [
    "print('OK')"
   ]
  }
 ],
 "metadata": {
  "kernelspec": {
   "display_name": "Python [default]",
   "language": "python",
   "name": "python3"
  },
  "language_info": {
   "codemirror_mode": {
    "name": "ipython",
    "version": 3
   },
   "file_extension": ".py",
   "mimetype": "text/x-python",
   "name": "python",
   "nbconvert_exporter": "python",
   "pygments_lexer": "ipython3",
   "version": "3.5.1"
  },
  "nav_menu": {},
  "toc": {
   "navigate_menu": true,
   "number_sections": true,
   "sideBar": true,
   "threshold": 6,
   "toc_cell": false,
   "toc_section_display": "block",
   "toc_window_display": false
  }
 },
 "nbformat": 4,
 "nbformat_minor": 0
}
