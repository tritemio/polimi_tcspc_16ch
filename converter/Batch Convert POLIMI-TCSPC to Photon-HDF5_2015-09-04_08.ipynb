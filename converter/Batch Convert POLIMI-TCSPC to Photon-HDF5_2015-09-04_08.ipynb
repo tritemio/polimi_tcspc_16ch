{
 "cells": [
  {
   "cell_type": "markdown",
   "metadata": {
    "deletable": true,
    "editable": true
   },
   "source": [
    "# Definitions"
   ]
  },
  {
   "cell_type": "code",
   "execution_count": 1,
   "metadata": {
    "collapsed": true,
    "deletable": true,
    "editable": true
   },
   "outputs": [],
   "source": [
    "%matplotlib inline\n",
    "from pathlib import Path\n",
    "from pprint import pprint\n",
    "import yaml\n",
    "import numpy as np\n",
    "import matplotlib.pyplot as plt\n",
    "import seaborn as sns\n",
    "sns.set_context(\"notebook\", font_scale=1.2, rc={\"lines.linewidth\": 1.5})"
   ]
  },
  {
   "cell_type": "code",
   "execution_count": 2,
   "metadata": {
    "collapsed": false,
    "deletable": true,
    "editable": true
   },
   "outputs": [
    {
     "name": "stdout",
     "output_type": "stream",
     "text": [
      "0.7.3\n"
     ]
    }
   ],
   "source": [
    "import phconvert as phc\n",
    "import polimi_tcspc\n",
    "print(phc.__version__)"
   ]
  },
  {
   "cell_type": "code",
   "execution_count": 3,
   "metadata": {
    "collapsed": false,
    "deletable": true,
    "editable": true
   },
   "outputs": [],
   "source": [
    "def save_polimi_tcspc_to_photon_hdf5(filename, metadata=None, validate=False):\n",
    "    hardware = ('POLIMI-TCSPC module 16-CH [Pos1: 0403FE6A (ch 1-8), Pos3: 0403F16A (ch 9-16)]; '\n",
    "                'Manta 0403DAE6.')\n",
    "    if metadata is None:\n",
    "        metadata = {}\n",
    "    d = metadata.copy()\n",
    "    d['description'] = '\\n'.join((d.get('description', ''), hardware))\n",
    "    d.setdefault('identity', {})\n",
    "\n",
    "    fpath = Path(filename)\n",
    "    h5_fname = Path(fpath.parent, '%s_%s.hdf5' % (fpath.parts[-2], fpath.stem))\n",
    "    filename = str(fpath)\n",
    "    d.setdefault('provenance', {'filename': filename})\n",
    "    print('\\n\\n>>> FILE: %s\\n%s' % (filename, d['description']))\n",
    "    pprint(metadata)\n",
    "    \n",
    "    data, header_info = polimi_tcspc.loadfile(filename)\n",
    "    timestamps_m = data['timestamps']\n",
    "    nanotimes = data['nanotimes']\n",
    "    channels = data['channels']\n",
    "    timestamps_unit = 1/header_info['timestamps_clock_Hz']\n",
    "    acquisition_duration = np.round((np.max([t.max() for t in timestamps_m]) - \n",
    "                                     np.min([t.min() for t in timestamps_m])) * timestamps_unit, 1)\n",
    "    \n",
    "    tcspc_num_bins = 2**14\n",
    "    for ch in range(16):\n",
    "        ch_mask = channels == ch\n",
    "        tcspc_unit = header_info['tcspc_binwidths_ps'][ch]*1e-12\n",
    "\n",
    "        photon_data = dict(\n",
    "            timestamps = timestamps_m[ch],\n",
    "            timestamps_specs = dict(timestamps_unit=timestamps_unit),\n",
    "            detectors = channels[ch_mask],\n",
    "\n",
    "            nanotimes = nanotimes[ch_mask],\n",
    "\n",
    "            nanotimes_specs = dict(\n",
    "                tcspc_unit = tcspc_unit,\n",
    "                tcspc_range = tcspc_unit*tcspc_num_bins,\n",
    "                tcspc_num_bins = tcspc_num_bins))\n",
    "\n",
    "        d['photon_data%d' % ch] = photon_data\n",
    "\n",
    "    d['acquisition_duration'] = acquisition_duration\n",
    "    d['_filename'] = filename\n",
    "    if 'setup' not in d:\n",
    "        d['setup'] = {}\n",
    "    d['setup'].update(\n",
    "        {'num_pixels': header_info['num_channels'], \n",
    "         'num_spots': header_info['num_channels'], \n",
    "         'num_spectral_ch': 1, 'num_polarization_ch': 1, 'num_split_ch': 1,\n",
    "         'modulated_excitation': False, 'lifetime': True,\n",
    "         'excitation_wavelengths': [532e-9], 'excitation_cw': [False],\n",
    "         'detection_wavelengths': [580e-9],\n",
    "         #'excitation_alternated': (False,),  # uncomment for Photon-HDF5 0.5+\n",
    "         'user': {'name': hardware}}\n",
    "    )\n",
    "    phc.hdf5.save_photon_hdf5(d, h5_fname=str(h5_fname), overwrite=True, validate=validate, skip_measurement_specs=False)"
   ]
  },
  {
   "cell_type": "markdown",
   "metadata": {
    "deletable": true,
    "editable": true
   },
   "source": [
    "# Check FIFO-full flags"
   ]
  },
  {
   "cell_type": "code",
   "execution_count": 4,
   "metadata": {
    "collapsed": true,
    "deletable": true,
    "editable": true
   },
   "outputs": [],
   "source": [
    "basepath = r'E:\\Data\\Antonio\\data\\POLIMI-TCSPC-16ch\\2015-09-04'"
   ]
  },
  {
   "cell_type": "code",
   "execution_count": 5,
   "metadata": {
    "collapsed": false,
    "deletable": true,
    "editable": true
   },
   "outputs": [
    {
     "name": "stdout",
     "output_type": "stream",
     "text": [
      "\n",
      " - data\\POLIMI-TCSPC-16ch\\2015-09-04\\IRF-glass-air-100mW-BP-Dich532-635_10.dat\n",
      "     * FIFO Full!\n",
      "\n",
      " - data\\POLIMI-TCSPC-16ch\\2015-09-04\\IRF-glass-air-100mW-BP-Dich532-635_9.dat\n",
      "\n",
      " - data\\POLIMI-TCSPC-16ch\\2015-09-04\\IRF-glass-air-100mW-LP-BP-Dich532-635_8.dat\n",
      "\n",
      " - data\\POLIMI-TCSPC-16ch\\2015-09-04\\IRF-glass-water-surface-100mW-BP-Dich532-635_11.dat\n",
      "\n",
      " - data\\POLIMI-TCSPC-16ch\\2015-09-04\\irf-H2O-50um-100mW-BP-Dich532-635_2.dat\n",
      "\n",
      " - data\\POLIMI-TCSPC-16ch\\2015-09-04\\irf-H2O-50um-100mW-LP-BP_Dich532-635_1.dat\n",
      "\n",
      " - data\\POLIMI-TCSPC-16ch\\2015-09-04\\T-NTD-3new_66pM-100mW-LP-BP-Dich532-635_7.dat\n",
      "\n",
      " - data\\POLIMI-TCSPC-16ch\\2015-09-04\\T-NTD-3_200pM-100mW-LP-BP-Dich532-635_3.dat\n",
      "\n",
      " - data\\POLIMI-TCSPC-16ch\\2015-09-04\\T-NTD-3_50pM-100mW-LP-BP-Dich532-635_4.dat\n"
     ]
    }
   ],
   "source": [
    "for file in Path(basepath).glob('**/*.dat'):\n",
    "    if not polimi_tcspc.is_polimi_tcspc(str(file)): \n",
    "        continue\n",
    "\n",
    "    print('\\n - %s' % Path(*file.parts[3:]), flush=True)\n",
    "    fifo_full = polimi_tcspc.get_fifo_full_array(str(file))\n",
    "    \n",
    "    if fifo_full.any():\n",
    "        print('     * FIFO Full!', flush=True)"
   ]
  },
  {
   "cell_type": "code",
   "execution_count": 6,
   "metadata": {
    "collapsed": false,
    "deletable": true,
    "editable": true
   },
   "outputs": [
    {
     "data": {
      "text/plain": [
       "True"
      ]
     },
     "execution_count": 6,
     "metadata": {},
     "output_type": "execute_result"
    }
   ],
   "source": [
    "metapath = Path(basepath).joinpath('metadata.yaml')\n",
    "metapath.exists()"
   ]
  },
  {
   "cell_type": "code",
   "execution_count": 7,
   "metadata": {
    "collapsed": false,
    "deletable": true,
    "editable": true
   },
   "outputs": [],
   "source": [
    "metadata = yaml.load(metapath.open())"
   ]
  },
  {
   "cell_type": "code",
   "execution_count": 8,
   "metadata": {
    "collapsed": false,
    "deletable": true,
    "editable": true
   },
   "outputs": [
    {
     "name": "stdout",
     "output_type": "stream",
     "text": [
      "IRF-glass-air-100mW-BP-Dich532-635_10:\n",
      "  description: 'Test IRF\n",
      "\n",
      "    '\n",
      "  setup: &id001\n",
      "    excitation_input_powers:\n",
      "    - 0.1\n",
      "IRF-glass-air-100mW-BP-Dich532-635_9:\n",
      "  description: 'Test IRF\n",
      "\n",
      "    '\n",
      "  setup: *id001\n",
      "IRF-glass-air-100mW-LP-BP-Dich532-635_8:\n",
      "  description: 'Test IRF\n",
      "\n",
      "    '\n",
      "  setup: *id001\n",
      "IRF-glass-water-surface-100mW-BP-Dich532-635_11:\n",
      "  description: 'Good IRF with high SNR. Acquired focusing on the glass-water surface\n",
      "    of a water sample. Filters: only 580-band-pass.\n",
      "\n",
      "    '\n",
      "  setup: *id001\n",
      "T-NTD-3_200pM-100mW-LP-BP-Dich532-635_3:\n",
      "  description: 'Measurement with wrong Z position of SPAD (along the optical axis).\n",
      "\n",
      "    '\n",
      "  sample: &id002\n",
      "    buffer_name: TE50\n",
      "    dye_names: ATTO550\n",
      "    num_dyes: 1\n",
      "    sample_name: 80bp dsDNA labeled with ATTO550, T-NTD(-3)\n",
      "  setup: *id001\n",
      "T-NTD-3_50pM-100mW-LP-BP-Dich532-635_4:\n",
      "  description: 'Measurement with wrong Z position of SPAD (along the optical axis).\n",
      "\n",
      "    '\n",
      "  sample: *id002\n",
      "  setup: *id001\n",
      "T-NTD-3new_66pM-100mW-LP-BP-Dich532-635_7:\n",
      "  description: 'Good measurement of 60uL of sample without gasket. 20uL of buffer\n",
      "    were added within 30s of measurement start  to reduce concentration from 100pM\n",
      "    to 66pM.\n",
      "\n",
      "    '\n",
      "  sample: *id002\n",
      "  setup: *id001\n",
      "irf-H2O-50um-100mW-BP-Dich532-635_2:\n",
      "  description: 'IRF with water sample focused 50um inside the water. Filters: only\n",
      "    580-band-pass.\n",
      "\n",
      "    '\n",
      "  setup: *id001\n",
      "irf-H2O-50um-100mW-LP-BP_Dich532-635_1:\n",
      "  description: 'IRF with water sample focused 50um inside the water. Filters: both\n",
      "    532 long-pass and 580-band-pass.\n",
      "\n",
      "    '\n",
      "  setup: *id001\n",
      "sample: *id002\n",
      "setup: *id001\n",
      "\n"
     ]
    }
   ],
   "source": [
    "print(yaml.dump(metadata, default_flow_style=False))"
   ]
  },
  {
   "cell_type": "code",
   "execution_count": 9,
   "metadata": {
    "collapsed": true,
    "deletable": true,
    "editable": true
   },
   "outputs": [],
   "source": [
    "basepath = r'E:\\Data\\Antonio\\data\\POLIMI-TCSPC-16ch\\2015-09-08'"
   ]
  },
  {
   "cell_type": "code",
   "execution_count": 10,
   "metadata": {
    "collapsed": false,
    "deletable": true,
    "editable": true
   },
   "outputs": [
    {
     "name": "stdout",
     "output_type": "stream",
     "text": [
      "\n",
      " - data\\POLIMI-TCSPC-16ch\\2015-09-08\\DA_12_D_8_MIX_LP-BP-100mW_6.dat\n",
      "\n",
      " - data\\POLIMI-TCSPC-16ch\\2015-09-08\\IRF-TE50-surface-BP-100mW_3.dat\n",
      "\n",
      " - data\\POLIMI-TCSPC-16ch\\2015-09-08\\IRF-TE50-surface-plus-BP-100mW_4.dat\n",
      "\n",
      " - data\\POLIMI-TCSPC-16ch\\2015-09-08\\T-NTD-3-66pM-60uL-100mW_2.dat\n",
      "\n",
      " - data\\POLIMI-TCSPC-16ch\\2015-09-08\\TA-15-NT-3_LP-BP-100mW_5.dat\n"
     ]
    }
   ],
   "source": [
    "for file in Path(basepath).glob('**/*.dat'):\n",
    "    if not polimi_tcspc.is_polimi_tcspc(str(file)): \n",
    "        continue\n",
    "\n",
    "    print('\\n - %s' % Path(*file.parts[3:]), flush=True)\n",
    "    fifo_full = polimi_tcspc.get_fifo_full_array(str(file))\n",
    "    \n",
    "    if fifo_full.any():\n",
    "        print('     * FIFO Full!', flush=True)"
   ]
  },
  {
   "cell_type": "code",
   "execution_count": 11,
   "metadata": {
    "collapsed": false,
    "deletable": true,
    "editable": true
   },
   "outputs": [
    {
     "data": {
      "text/plain": [
       "True"
      ]
     },
     "execution_count": 11,
     "metadata": {},
     "output_type": "execute_result"
    }
   ],
   "source": [
    "metapath = Path(basepath).joinpath('metadata.yaml')\n",
    "metapath.exists()"
   ]
  },
  {
   "cell_type": "code",
   "execution_count": 12,
   "metadata": {
    "collapsed": false,
    "deletable": true,
    "editable": true
   },
   "outputs": [],
   "source": [
    "metadata = yaml.load(metapath.open(),)"
   ]
  },
  {
   "cell_type": "code",
   "execution_count": 13,
   "metadata": {
    "collapsed": false,
    "deletable": true,
    "editable": true
   },
   "outputs": [
    {
     "name": "stdout",
     "output_type": "stream",
     "text": [
      "DA_12_D_8_MIX_LP-BP-100mW_6:\n",
      "  description: 'Mixture of 60% FRET, 40% DO sample, 60uL, 66pM (total). No gasket.\n",
      "\n",
      "    '\n",
      "  sample:\n",
      "    buffer_name: TE50\n",
      "    dye_names: ATTO550, ATTO647N\n",
      "    num_dyes: 2\n",
      "    sample_name: Mixture 60% FRET TA(-15)-NTD(-3), 40% DO T-NTD(-3)80bp, 66pM total.\n",
      "  setup: &id001\n",
      "    excitation_input_powers:\n",
      "    - 0.1\n",
      "IRF-TE50-surface-BP-100mW_3:\n",
      "  description: 'IRF measurement\n",
      "\n",
      "    '\n",
      "  setup: *id001\n",
      "IRF-TE50-surface-plus-BP-100mW_4:\n",
      "  description: 'IRF measurement\n",
      "\n",
      "    '\n",
      "  setup: *id001\n",
      "T-NTD-3-66pM-60uL-100mW_2:\n",
      "  description: ''\n",
      "  sample: &id002\n",
      "    buffer_name: TE50\n",
      "    dye_names: ATTO550\n",
      "    num_dyes: 1\n",
      "    sample_name: 80bp dsDNA labeled with ATTO550, T-NTD(-3)\n",
      "  setup: *id001\n",
      "TA-15-NT-3_LP-BP-100mW_5:\n",
      "  description: 'Medium FRET sample 20uL no gasket.\n",
      "\n",
      "    '\n",
      "  sample: &id003\n",
      "    buffer_name: TE50\n",
      "    dye_names: ATTO550, ATTO647N\n",
      "    num_dyes: 2\n",
      "    sample_name: 80bp dsDNA, TA(-15)-NTD(-3)\n",
      "  setup: *id001\n",
      "sample_d: *id002\n",
      "sample_da: *id003\n",
      "setup: *id001\n",
      "\n"
     ]
    }
   ],
   "source": [
    "print(yaml.dump(metadata, default_flow_style=False))"
   ]
  },
  {
   "cell_type": "code",
   "execution_count": 14,
   "metadata": {
    "collapsed": false
   },
   "outputs": [
    {
     "data": {
      "text/plain": [
       "{'DA_12_D_8_MIX_LP-BP-100mW_6': {'description': 'Mixture of 60% FRET, 40% DO sample, 60uL, 66pM (total). No gasket.\\n',\n",
       "  'sample': {'buffer_name': 'TE50',\n",
       "   'dye_names': 'ATTO550, ATTO647N',\n",
       "   'num_dyes': 2,\n",
       "   'sample_name': 'Mixture 60% FRET TA(-15)-NTD(-3), 40% DO T-NTD(-3)80bp, 66pM total.'},\n",
       "  'setup': {'excitation_input_powers': [0.1]}},\n",
       " 'IRF-TE50-surface-BP-100mW_3': {'description': 'IRF measurement\\n',\n",
       "  'setup': {'excitation_input_powers': [0.1]}},\n",
       " 'IRF-TE50-surface-plus-BP-100mW_4': {'description': 'IRF measurement\\n',\n",
       "  'setup': {'excitation_input_powers': [0.1]}},\n",
       " 'T-NTD-3-66pM-60uL-100mW_2': {'description': '',\n",
       "  'sample': {'buffer_name': 'TE50',\n",
       "   'dye_names': 'ATTO550',\n",
       "   'num_dyes': 1,\n",
       "   'sample_name': '80bp dsDNA labeled with ATTO550, T-NTD(-3)'},\n",
       "  'setup': {'excitation_input_powers': [0.1]}},\n",
       " 'TA-15-NT-3_LP-BP-100mW_5': {'description': 'Medium FRET sample 20uL no gasket.\\n',\n",
       "  'sample': {'buffer_name': 'TE50',\n",
       "   'dye_names': 'ATTO550, ATTO647N',\n",
       "   'num_dyes': 2,\n",
       "   'sample_name': '80bp dsDNA, TA(-15)-NTD(-3)'},\n",
       "  'setup': {'excitation_input_powers': [0.1]}},\n",
       " 'sample_d': {'buffer_name': 'TE50',\n",
       "  'dye_names': 'ATTO550',\n",
       "  'num_dyes': 1,\n",
       "  'sample_name': '80bp dsDNA labeled with ATTO550, T-NTD(-3)'},\n",
       " 'sample_da': {'buffer_name': 'TE50',\n",
       "  'dye_names': 'ATTO550, ATTO647N',\n",
       "  'num_dyes': 2,\n",
       "  'sample_name': '80bp dsDNA, TA(-15)-NTD(-3)'},\n",
       " 'setup': {'excitation_input_powers': [0.1]}}"
      ]
     },
     "execution_count": 14,
     "metadata": {},
     "output_type": "execute_result"
    }
   ],
   "source": [
    "metadata"
   ]
  },
  {
   "cell_type": "markdown",
   "metadata": {
    "deletable": true,
    "editable": true
   },
   "source": [
    "# Convert files"
   ]
  },
  {
   "cell_type": "markdown",
   "metadata": {},
   "source": [
    "## 2015-09-04  Measurements"
   ]
  },
  {
   "cell_type": "code",
   "execution_count": 15,
   "metadata": {
    "collapsed": true,
    "deletable": true,
    "editable": true
   },
   "outputs": [],
   "source": [
    "basepath = r'E:\\Data\\Antonio\\data\\POLIMI-TCSPC-16ch\\2015-09-04'"
   ]
  },
  {
   "cell_type": "code",
   "execution_count": 16,
   "metadata": {
    "collapsed": true
   },
   "outputs": [],
   "source": [
    "filenames = ['T-NTD-3new_66pM-100mW-LP-BP-Dich532-635_7.dat',\n",
    "             'IRF-glass-air-100mW-BP-Dich532-635_10.dat',\n",
    "             'IRF-glass-water-surface-100mW-BP-Dich532-635_11.dat',\n",
    "            ]"
   ]
  },
  {
   "cell_type": "code",
   "execution_count": 17,
   "metadata": {
    "collapsed": false,
    "deletable": true,
    "editable": true
   },
   "outputs": [
    {
     "name": "stdout",
     "output_type": "stream",
     "text": [
      "\n",
      "\n",
      ">>> FILE: E:\\Data\\Antonio\\data\\POLIMI-TCSPC-16ch\\2015-09-04\\T-NTD-3new_66pM-100mW-LP-BP-Dich532-635_7.dat\n",
      "Good measurement of 60uL of sample without gasket. 20uL of buffer were added within 30s of measurement start  to reduce concentration from 100pM to 66pM.\n",
      "\n",
      "POLIMI-TCSPC module 16-CH [Pos1: 0403FE6A (ch 1-8), Pos3: 0403F16A (ch 9-16)]; Manta 0403DAE6.\n",
      "{'description': 'Good measurement of 60uL of sample without gasket. 20uL of '\n",
      "                'buffer were added within 30s of measurement start  to reduce '\n",
      "                'concentration from 100pM to 66pM.\\n',\n",
      " 'sample': {'buffer_name': 'TE50',\n",
      "            'dye_names': 'ATTO550',\n",
      "            'num_dyes': 1,\n",
      "            'sample_name': '80bp dsDNA labeled with ATTO550, T-NTD(-3)'},\n",
      " 'setup': {'excitation_input_powers': [0.1]}}\n",
      "Saving: E:\\Data\\Antonio\\data\\POLIMI-TCSPC-16ch\\2015-09-04\\2015-09-04_T-NTD-3new_66pM-100mW-LP-BP-Dich532-635_7.hdf5\n",
      "Photon-HDF5 WARNING: Missing field \"author\" in \"/identity\".\n",
      "Photon-HDF5 WARNING: Missing field \"author_affiliation\" in \"/identity\".\n",
      "Photon-HDF5 WARNING: Missing field \"measurement_specs\" in \"/photon_data0\".\n",
      "Photon-HDF5 WARNING: Missing field \"measurement_specs\" in \"/photon_data1\".\n",
      "Photon-HDF5 WARNING: Missing field \"measurement_specs\" in \"/photon_data10\".\n",
      "Photon-HDF5 WARNING: Missing field \"measurement_specs\" in \"/photon_data11\".\n",
      "Photon-HDF5 WARNING: Missing field \"measurement_specs\" in \"/photon_data12\".\n",
      "Photon-HDF5 WARNING: Missing field \"measurement_specs\" in \"/photon_data13\".\n",
      "Photon-HDF5 WARNING: Missing field \"measurement_specs\" in \"/photon_data14\".\n",
      "Photon-HDF5 WARNING: Missing field \"measurement_specs\" in \"/photon_data15\".\n",
      "Photon-HDF5 WARNING: Missing field \"measurement_specs\" in \"/photon_data2\".\n",
      "Photon-HDF5 WARNING: Missing field \"measurement_specs\" in \"/photon_data3\".\n",
      "Photon-HDF5 WARNING: Missing field \"measurement_specs\" in \"/photon_data4\".\n",
      "Photon-HDF5 WARNING: Missing field \"measurement_specs\" in \"/photon_data5\".\n",
      "Photon-HDF5 WARNING: Missing field \"measurement_specs\" in \"/photon_data6\".\n",
      "Photon-HDF5 WARNING: Missing field \"measurement_specs\" in \"/photon_data7\".\n",
      "Photon-HDF5 WARNING: Missing field \"measurement_specs\" in \"/photon_data8\".\n",
      "Photon-HDF5 WARNING: Missing field \"measurement_specs\" in \"/photon_data9\".\n",
      "\n",
      "\n",
      ">>> FILE: E:\\Data\\Antonio\\data\\POLIMI-TCSPC-16ch\\2015-09-04\\IRF-glass-air-100mW-BP-Dich532-635_10.dat\n",
      "Test IRF\n",
      "\n",
      "POLIMI-TCSPC module 16-CH [Pos1: 0403FE6A (ch 1-8), Pos3: 0403F16A (ch 9-16)]; Manta 0403DAE6.\n",
      "{'description': 'Test IRF\\n', 'setup': {'excitation_input_powers': [0.1]}}\n",
      "WARNING: Data has gaps (FIFO overflows).\n",
      "Saving: E:\\Data\\Antonio\\data\\POLIMI-TCSPC-16ch\\2015-09-04\\2015-09-04_IRF-glass-air-100mW-BP-Dich532-635_10.hdf5\n",
      "Photon-HDF5 WARNING: Missing field \"author\" in \"/identity\".\n",
      "Photon-HDF5 WARNING: Missing field \"author_affiliation\" in \"/identity\".\n",
      "Photon-HDF5 WARNING: Missing field \"measurement_specs\" in \"/photon_data0\".\n",
      "Photon-HDF5 WARNING: Missing field \"measurement_specs\" in \"/photon_data1\".\n",
      "Photon-HDF5 WARNING: Missing field \"measurement_specs\" in \"/photon_data10\".\n",
      "Photon-HDF5 WARNING: Missing field \"measurement_specs\" in \"/photon_data11\".\n",
      "Photon-HDF5 WARNING: Missing field \"measurement_specs\" in \"/photon_data12\".\n",
      "Photon-HDF5 WARNING: Missing field \"measurement_specs\" in \"/photon_data13\".\n",
      "Photon-HDF5 WARNING: Missing field \"measurement_specs\" in \"/photon_data14\".\n",
      "Photon-HDF5 WARNING: Missing field \"measurement_specs\" in \"/photon_data15\".\n",
      "Photon-HDF5 WARNING: Missing field \"measurement_specs\" in \"/photon_data2\".\n",
      "Photon-HDF5 WARNING: Missing field \"measurement_specs\" in \"/photon_data3\".\n",
      "Photon-HDF5 WARNING: Missing field \"measurement_specs\" in \"/photon_data4\".\n",
      "Photon-HDF5 WARNING: Missing field \"measurement_specs\" in \"/photon_data5\".\n",
      "Photon-HDF5 WARNING: Missing field \"measurement_specs\" in \"/photon_data6\".\n",
      "Photon-HDF5 WARNING: Missing field \"measurement_specs\" in \"/photon_data7\".\n",
      "Photon-HDF5 WARNING: Missing field \"measurement_specs\" in \"/photon_data8\".\n",
      "Photon-HDF5 WARNING: Missing field \"measurement_specs\" in \"/photon_data9\".\n",
      "\n",
      "\n",
      ">>> FILE: E:\\Data\\Antonio\\data\\POLIMI-TCSPC-16ch\\2015-09-04\\IRF-glass-water-surface-100mW-BP-Dich532-635_11.dat\n",
      "Good IRF with high SNR. Acquired focusing on the glass-water surface of a water sample. Filters: only 580-band-pass.\n",
      "\n",
      "POLIMI-TCSPC module 16-CH [Pos1: 0403FE6A (ch 1-8), Pos3: 0403F16A (ch 9-16)]; Manta 0403DAE6.\n",
      "{'description': 'Good IRF with high SNR. Acquired focusing on the glass-water '\n",
      "                'surface of a water sample. Filters: only 580-band-pass.\\n',\n",
      " 'setup': {'excitation_input_powers': [0.1]}}\n",
      "Saving: E:\\Data\\Antonio\\data\\POLIMI-TCSPC-16ch\\2015-09-04\\2015-09-04_IRF-glass-water-surface-100mW-BP-Dich532-635_11.hdf5\n",
      "Photon-HDF5 WARNING: Missing field \"author\" in \"/identity\".\n",
      "Photon-HDF5 WARNING: Missing field \"author_affiliation\" in \"/identity\".\n",
      "Photon-HDF5 WARNING: Missing field \"measurement_specs\" in \"/photon_data0\".\n",
      "Photon-HDF5 WARNING: Missing field \"measurement_specs\" in \"/photon_data1\".\n",
      "Photon-HDF5 WARNING: Missing field \"measurement_specs\" in \"/photon_data10\".\n",
      "Photon-HDF5 WARNING: Missing field \"measurement_specs\" in \"/photon_data11\".\n",
      "Photon-HDF5 WARNING: Missing field \"measurement_specs\" in \"/photon_data12\".\n",
      "Photon-HDF5 WARNING: Missing field \"measurement_specs\" in \"/photon_data13\".\n",
      "Photon-HDF5 WARNING: Missing field \"measurement_specs\" in \"/photon_data14\".\n",
      "Photon-HDF5 WARNING: Missing field \"measurement_specs\" in \"/photon_data15\".\n",
      "Photon-HDF5 WARNING: Missing field \"measurement_specs\" in \"/photon_data2\".\n",
      "Photon-HDF5 WARNING: Missing field \"measurement_specs\" in \"/photon_data3\".\n",
      "Photon-HDF5 WARNING: Missing field \"measurement_specs\" in \"/photon_data4\".\n",
      "Photon-HDF5 WARNING: Missing field \"measurement_specs\" in \"/photon_data5\".\n",
      "Photon-HDF5 WARNING: Missing field \"measurement_specs\" in \"/photon_data6\".\n",
      "Photon-HDF5 WARNING: Missing field \"measurement_specs\" in \"/photon_data7\".\n",
      "Photon-HDF5 WARNING: Missing field \"measurement_specs\" in \"/photon_data8\".\n",
      "Photon-HDF5 WARNING: Missing field \"measurement_specs\" in \"/photon_data9\".\n"
     ]
    }
   ],
   "source": [
    "for filename in filenames:\n",
    "    datafile = Path(basepath, filename)\n",
    "    assert datafile.exists()\n",
    "\n",
    "    metapath = Path(basepath, 'metadata.yaml')\n",
    "    metadata_all = yaml.load(metapath.open())\n",
    "    assert datafile.stem in metadata_all\n",
    "    metadata = metadata_all[datafile.stem]\n",
    "    #pprint(metadata)\n",
    "    \n",
    "    save_polimi_tcspc_to_photon_hdf5(datafile, metadata=metadata, validate=True)"
   ]
  },
  {
   "cell_type": "markdown",
   "metadata": {
    "deletable": true,
    "editable": true
   },
   "source": [
    "## 2015-09-08  Measurements"
   ]
  },
  {
   "cell_type": "code",
   "execution_count": 18,
   "metadata": {
    "collapsed": true,
    "deletable": true,
    "editable": true
   },
   "outputs": [],
   "source": [
    "basepath = r'E:\\Data\\Antonio\\data\\POLIMI-TCSPC-16ch\\2015-09-08'"
   ]
  },
  {
   "cell_type": "code",
   "execution_count": 19,
   "metadata": {
    "collapsed": true
   },
   "outputs": [],
   "source": [
    "filenames = ['TA-15-NT-3_LP-BP-100mW_5.dat',\n",
    "             'DA_12_D_8_MIX_LP-BP-100mW_6.dat',\n",
    "             'IRF-TE50-surface-BP-100mW_3.dat',\n",
    "             'IRF-TE50-surface-plus-BP-100mW_4.dat'\n",
    "            ]"
   ]
  },
  {
   "cell_type": "code",
   "execution_count": 20,
   "metadata": {
    "collapsed": false,
    "deletable": true,
    "editable": true,
    "scrolled": false
   },
   "outputs": [
    {
     "name": "stdout",
     "output_type": "stream",
     "text": [
      "\n",
      "\n",
      ">>> FILE: E:\\Data\\Antonio\\data\\POLIMI-TCSPC-16ch\\2015-09-08\\TA-15-NT-3_LP-BP-100mW_5.dat\n",
      "Medium FRET sample 20uL no gasket.\n",
      "\n",
      "POLIMI-TCSPC module 16-CH [Pos1: 0403FE6A (ch 1-8), Pos3: 0403F16A (ch 9-16)]; Manta 0403DAE6.\n",
      "{'description': 'Medium FRET sample 20uL no gasket.\\n',\n",
      " 'sample': {'buffer_name': 'TE50',\n",
      "            'dye_names': 'ATTO550, ATTO647N',\n",
      "            'num_dyes': 2,\n",
      "            'sample_name': '80bp dsDNA, TA(-15)-NTD(-3)'},\n",
      " 'setup': {'excitation_input_powers': [0.1]}}\n",
      "Saving: E:\\Data\\Antonio\\data\\POLIMI-TCSPC-16ch\\2015-09-08\\2015-09-08_TA-15-NT-3_LP-BP-100mW_5.hdf5\n",
      "Photon-HDF5 WARNING: Missing field \"author\" in \"/identity\".\n",
      "Photon-HDF5 WARNING: Missing field \"author_affiliation\" in \"/identity\".\n",
      "Photon-HDF5 WARNING: Missing field \"measurement_specs\" in \"/photon_data0\".\n",
      "Photon-HDF5 WARNING: Missing field \"measurement_specs\" in \"/photon_data1\".\n",
      "Photon-HDF5 WARNING: Missing field \"measurement_specs\" in \"/photon_data10\".\n",
      "Photon-HDF5 WARNING: Missing field \"measurement_specs\" in \"/photon_data11\".\n",
      "Photon-HDF5 WARNING: Missing field \"measurement_specs\" in \"/photon_data12\".\n",
      "Photon-HDF5 WARNING: Missing field \"measurement_specs\" in \"/photon_data13\".\n",
      "Photon-HDF5 WARNING: Missing field \"measurement_specs\" in \"/photon_data14\".\n",
      "Photon-HDF5 WARNING: Missing field \"measurement_specs\" in \"/photon_data15\".\n",
      "Photon-HDF5 WARNING: Missing field \"measurement_specs\" in \"/photon_data2\".\n",
      "Photon-HDF5 WARNING: Missing field \"measurement_specs\" in \"/photon_data3\".\n",
      "Photon-HDF5 WARNING: Missing field \"measurement_specs\" in \"/photon_data4\".\n",
      "Photon-HDF5 WARNING: Missing field \"measurement_specs\" in \"/photon_data5\".\n",
      "Photon-HDF5 WARNING: Missing field \"measurement_specs\" in \"/photon_data6\".\n",
      "Photon-HDF5 WARNING: Missing field \"measurement_specs\" in \"/photon_data7\".\n",
      "Photon-HDF5 WARNING: Missing field \"measurement_specs\" in \"/photon_data8\".\n",
      "Photon-HDF5 WARNING: Missing field \"measurement_specs\" in \"/photon_data9\".\n",
      "\n",
      "\n",
      ">>> FILE: E:\\Data\\Antonio\\data\\POLIMI-TCSPC-16ch\\2015-09-08\\DA_12_D_8_MIX_LP-BP-100mW_6.dat\n",
      "Mixture of 60% FRET, 40% DO sample, 60uL, 66pM (total). No gasket.\n",
      "\n",
      "POLIMI-TCSPC module 16-CH [Pos1: 0403FE6A (ch 1-8), Pos3: 0403F16A (ch 9-16)]; Manta 0403DAE6.\n",
      "{'description': 'Mixture of 60% FRET, 40% DO sample, 60uL, 66pM (total). No '\n",
      "                'gasket.\\n',\n",
      " 'sample': {'buffer_name': 'TE50',\n",
      "            'dye_names': 'ATTO550, ATTO647N',\n",
      "            'num_dyes': 2,\n",
      "            'sample_name': 'Mixture 60% FRET TA(-15)-NTD(-3), 40% DO '\n",
      "                           'T-NTD(-3)80bp, 66pM total.'},\n",
      " 'setup': {'excitation_input_powers': [0.1]}}\n",
      "Saving: E:\\Data\\Antonio\\data\\POLIMI-TCSPC-16ch\\2015-09-08\\2015-09-08_DA_12_D_8_MIX_LP-BP-100mW_6.hdf5\n",
      "Photon-HDF5 WARNING: Missing field \"author\" in \"/identity\".\n",
      "Photon-HDF5 WARNING: Missing field \"author_affiliation\" in \"/identity\".\n",
      "Photon-HDF5 WARNING: Missing field \"measurement_specs\" in \"/photon_data0\".\n",
      "Photon-HDF5 WARNING: Missing field \"measurement_specs\" in \"/photon_data1\".\n",
      "Photon-HDF5 WARNING: Missing field \"measurement_specs\" in \"/photon_data10\".\n",
      "Photon-HDF5 WARNING: Missing field \"measurement_specs\" in \"/photon_data11\".\n",
      "Photon-HDF5 WARNING: Missing field \"measurement_specs\" in \"/photon_data12\".\n",
      "Photon-HDF5 WARNING: Missing field \"measurement_specs\" in \"/photon_data13\".\n",
      "Photon-HDF5 WARNING: Missing field \"measurement_specs\" in \"/photon_data14\".\n",
      "Photon-HDF5 WARNING: Missing field \"measurement_specs\" in \"/photon_data15\".\n",
      "Photon-HDF5 WARNING: Missing field \"measurement_specs\" in \"/photon_data2\".\n",
      "Photon-HDF5 WARNING: Missing field \"measurement_specs\" in \"/photon_data3\".\n",
      "Photon-HDF5 WARNING: Missing field \"measurement_specs\" in \"/photon_data4\".\n",
      "Photon-HDF5 WARNING: Missing field \"measurement_specs\" in \"/photon_data5\".\n",
      "Photon-HDF5 WARNING: Missing field \"measurement_specs\" in \"/photon_data6\".\n",
      "Photon-HDF5 WARNING: Missing field \"measurement_specs\" in \"/photon_data7\".\n",
      "Photon-HDF5 WARNING: Missing field \"measurement_specs\" in \"/photon_data8\".\n",
      "Photon-HDF5 WARNING: Missing field \"measurement_specs\" in \"/photon_data9\".\n",
      "\n",
      "\n",
      ">>> FILE: E:\\Data\\Antonio\\data\\POLIMI-TCSPC-16ch\\2015-09-08\\IRF-TE50-surface-BP-100mW_3.dat\n",
      "IRF measurement\n",
      "\n",
      "POLIMI-TCSPC module 16-CH [Pos1: 0403FE6A (ch 1-8), Pos3: 0403F16A (ch 9-16)]; Manta 0403DAE6.\n",
      "{'description': 'IRF measurement\\n',\n",
      " 'setup': {'excitation_input_powers': [0.1]}}\n",
      "Saving: E:\\Data\\Antonio\\data\\POLIMI-TCSPC-16ch\\2015-09-08\\2015-09-08_IRF-TE50-surface-BP-100mW_3.hdf5\n",
      "Photon-HDF5 WARNING: Missing field \"author\" in \"/identity\".\n",
      "Photon-HDF5 WARNING: Missing field \"author_affiliation\" in \"/identity\".\n",
      "Photon-HDF5 WARNING: Missing field \"measurement_specs\" in \"/photon_data0\".\n",
      "Photon-HDF5 WARNING: Missing field \"measurement_specs\" in \"/photon_data1\".\n",
      "Photon-HDF5 WARNING: Missing field \"measurement_specs\" in \"/photon_data10\".\n",
      "Photon-HDF5 WARNING: Missing field \"measurement_specs\" in \"/photon_data11\".\n",
      "Photon-HDF5 WARNING: Missing field \"measurement_specs\" in \"/photon_data12\".\n",
      "Photon-HDF5 WARNING: Missing field \"measurement_specs\" in \"/photon_data13\".\n",
      "Photon-HDF5 WARNING: Missing field \"measurement_specs\" in \"/photon_data14\".\n",
      "Photon-HDF5 WARNING: Missing field \"measurement_specs\" in \"/photon_data15\".\n",
      "Photon-HDF5 WARNING: Missing field \"measurement_specs\" in \"/photon_data2\".\n",
      "Photon-HDF5 WARNING: Missing field \"measurement_specs\" in \"/photon_data3\".\n",
      "Photon-HDF5 WARNING: Missing field \"measurement_specs\" in \"/photon_data4\".\n",
      "Photon-HDF5 WARNING: Missing field \"measurement_specs\" in \"/photon_data5\".\n",
      "Photon-HDF5 WARNING: Missing field \"measurement_specs\" in \"/photon_data6\".\n",
      "Photon-HDF5 WARNING: Missing field \"measurement_specs\" in \"/photon_data7\".\n",
      "Photon-HDF5 WARNING: Missing field \"measurement_specs\" in \"/photon_data8\".\n",
      "Photon-HDF5 WARNING: Missing field \"measurement_specs\" in \"/photon_data9\".\n",
      "\n",
      "\n",
      ">>> FILE: E:\\Data\\Antonio\\data\\POLIMI-TCSPC-16ch\\2015-09-08\\IRF-TE50-surface-plus-BP-100mW_4.dat\n",
      "IRF measurement\n",
      "\n",
      "POLIMI-TCSPC module 16-CH [Pos1: 0403FE6A (ch 1-8), Pos3: 0403F16A (ch 9-16)]; Manta 0403DAE6.\n",
      "{'description': 'IRF measurement\\n',\n",
      " 'setup': {'excitation_input_powers': [0.1]}}\n",
      "Saving: E:\\Data\\Antonio\\data\\POLIMI-TCSPC-16ch\\2015-09-08\\2015-09-08_IRF-TE50-surface-plus-BP-100mW_4.hdf5\n",
      "Photon-HDF5 WARNING: Missing field \"author\" in \"/identity\".\n",
      "Photon-HDF5 WARNING: Missing field \"author_affiliation\" in \"/identity\".\n",
      "Photon-HDF5 WARNING: Missing field \"measurement_specs\" in \"/photon_data0\".\n",
      "Photon-HDF5 WARNING: Missing field \"measurement_specs\" in \"/photon_data1\".\n",
      "Photon-HDF5 WARNING: Missing field \"measurement_specs\" in \"/photon_data10\".\n",
      "Photon-HDF5 WARNING: Missing field \"measurement_specs\" in \"/photon_data11\".\n",
      "Photon-HDF5 WARNING: Missing field \"measurement_specs\" in \"/photon_data12\".\n",
      "Photon-HDF5 WARNING: Missing field \"measurement_specs\" in \"/photon_data13\".\n",
      "Photon-HDF5 WARNING: Missing field \"measurement_specs\" in \"/photon_data14\".\n",
      "Photon-HDF5 WARNING: Missing field \"measurement_specs\" in \"/photon_data15\".\n",
      "Photon-HDF5 WARNING: Missing field \"measurement_specs\" in \"/photon_data2\".\n",
      "Photon-HDF5 WARNING: Missing field \"measurement_specs\" in \"/photon_data3\".\n",
      "Photon-HDF5 WARNING: Missing field \"measurement_specs\" in \"/photon_data4\".\n",
      "Photon-HDF5 WARNING: Missing field \"measurement_specs\" in \"/photon_data5\".\n",
      "Photon-HDF5 WARNING: Missing field \"measurement_specs\" in \"/photon_data6\".\n",
      "Photon-HDF5 WARNING: Missing field \"measurement_specs\" in \"/photon_data7\".\n",
      "Photon-HDF5 WARNING: Missing field \"measurement_specs\" in \"/photon_data8\".\n",
      "Photon-HDF5 WARNING: Missing field \"measurement_specs\" in \"/photon_data9\".\n"
     ]
    }
   ],
   "source": [
    "for filename in filenames:\n",
    "    datafile = Path(basepath, filename)\n",
    "    assert datafile.exists()\n",
    "\n",
    "    metapath = Path(basepath, 'metadata.yaml')\n",
    "    metadata_all = yaml.load(metapath.open())\n",
    "    assert datafile.stem in metadata_all\n",
    "    metadata = metadata_all[datafile.stem]\n",
    "    #pprint(metadata)\n",
    "    \n",
    "    save_polimi_tcspc_to_photon_hdf5(datafile, metadata=metadata, validate=True)"
   ]
  },
  {
   "cell_type": "code",
   "execution_count": null,
   "metadata": {
    "collapsed": true
   },
   "outputs": [],
   "source": []
  }
 ],
 "metadata": {
  "kernelspec": {
   "display_name": "Python [default]",
   "language": "python",
   "name": "python3"
  },
  "language_info": {
   "codemirror_mode": {
    "name": "ipython",
    "version": 3
   },
   "file_extension": ".py",
   "mimetype": "text/x-python",
   "name": "python",
   "nbconvert_exporter": "python",
   "pygments_lexer": "ipython3",
   "version": "3.5.1"
  },
  "nav_menu": {},
  "toc": {
   "navigate_menu": true,
   "number_sections": false,
   "sideBar": true,
   "threshold": 6,
   "toc_cell": false,
   "toc_section_display": "block",
   "toc_window_display": true
  }
 },
 "nbformat": 4,
 "nbformat_minor": 0
}
