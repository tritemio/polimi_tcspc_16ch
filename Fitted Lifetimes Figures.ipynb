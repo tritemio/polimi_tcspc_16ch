{
 "cells": [
  {
   "cell_type": "code",
   "execution_count": 1,
   "metadata": {
    "collapsed": true
   },
   "outputs": [],
   "source": [
    "import numpy as np\n",
    "import matplotlib.pyplot as plt\n",
    "from pathlib import Path\n",
    "import pandas as pd\n",
    "import seaborn as sns\n",
    "%matplotlib inline"
   ]
  },
  {
   "cell_type": "code",
   "execution_count": 96,
   "metadata": {
    "collapsed": true
   },
   "outputs": [],
   "source": [
    "sns.set(style='ticks', font_scale=1.3)"
   ]
  },
  {
   "cell_type": "code",
   "execution_count": null,
   "metadata": {
    "collapsed": true
   },
   "outputs": [],
   "source": [
    "plt.errorbar()"
   ]
  },
  {
   "cell_type": "code",
   "execution_count": 48,
   "metadata": {
    "collapsed": true
   },
   "outputs": [],
   "source": [
    "def linplot16(values, figsize=(6, 4), ax=None, title=None, kind='plot', **plt_kws):\n",
    "    if ax is None:\n",
    "        _, ax = plt.subplots(figsize=figsize)\n",
    "    \n",
    "    if kind == 'plot':\n",
    "        plt_kws.setdefault('marker', 'o')\n",
    "        plt_kws.setdefault('lw', 0)\n",
    "        ax.plot(values, **plt_kws)\n",
    "    elif kind == 'errorbar':\n",
    "        ax.errorbar(x=np.arange(16), y=values, **plt_kws)\n",
    "    else:\n",
    "        left_bins = np.arange(16)\n",
    "        ax.bar(left_bins, values, **plt_kws)\n",
    "    ax.grid(True)\n",
    "    ax.set_xticks(range(16))\n",
    "    ax.set_xlabel('Spot')\n",
    "    if title is not None:\n",
    "        ax.set_title(title, va='bottom')\n",
    "    return ax"
   ]
  },
  {
   "cell_type": "code",
   "execution_count": 180,
   "metadata": {
    "collapsed": true
   },
   "outputs": [],
   "source": [
    "savefigures = True\n",
    "\n",
    "def savefig(fname, **kwargs):\n",
    "    if not savefigures:\n",
    "        return\n",
    "    dir_ = 'figures/'\n",
    "    kwargs.setdefault('dpi', 300)\n",
    "    kwargs.setdefault('bbox_inches', 'tight')\n",
    "    kwargs.setdefault('frameon', False)\n",
    "    plt.savefig(dir_ + fname, **kwargs)"
   ]
  },
  {
   "cell_type": "code",
   "execution_count": 49,
   "metadata": {
    "collapsed": false
   },
   "outputs": [
    {
     "data": {
      "text/plain": [
       "[WindowsPath('data/DCR_2015-08-28.csv'),\n",
       " WindowsPath('data/T-NTD-3new_66pM-100mW-LP-BP-Dich532-635_7_Fit_Results.csv'),\n",
       " WindowsPath('data/TA-15-NT-3_LP-BP-100mW_5_Fit_Results.csv')]"
      ]
     },
     "execution_count": 49,
     "metadata": {},
     "output_type": "execute_result"
    }
   ],
   "source": [
    "[f for f in Path('data').glob('*.csv')]"
   ]
  },
  {
   "cell_type": "code",
   "execution_count": 50,
   "metadata": {
    "collapsed": false
   },
   "outputs": [
    {
     "data": {
      "text/html": [
       "<div>\n",
       "<table border=\"1\" class=\"dataframe\">\n",
       "  <thead>\n",
       "    <tr style=\"text-align: right;\">\n",
       "      <th></th>\n",
       "      <th>Channel</th>\n",
       "      <th>BR</th>\n",
       "      <th>DCR</th>\n",
       "      <th>Samp BR</th>\n",
       "      <th>Unnamed: 4</th>\n",
       "      <th>Unnamed: 5</th>\n",
       "      <th>#Bursts</th>\n",
       "      <th>A1 (4)</th>\n",
       "      <th>Tau1 (4)</th>\n",
       "      <th>dTau1 (4)</th>\n",
       "      <th>f1 (4)</th>\n",
       "      <th>A2 (4)</th>\n",
       "      <th>Tau2 (4)</th>\n",
       "      <th>dTau2 (4)</th>\n",
       "      <th>f2 (4)</th>\n",
       "      <th>&lt;Tau&gt; (4)</th>\n",
       "      <th>BL (4)</th>\n",
       "    </tr>\n",
       "  </thead>\n",
       "  <tbody>\n",
       "    <tr>\n",
       "      <th>0</th>\n",
       "      <td>NaN</td>\n",
       "      <td>Hz</td>\n",
       "      <td>Hz</td>\n",
       "      <td>Hz</td>\n",
       "      <td>NaN</td>\n",
       "      <td>NaN</td>\n",
       "      <td>NaN</td>\n",
       "      <td>NaN</td>\n",
       "      <td>ns</td>\n",
       "      <td>NaN</td>\n",
       "      <td>NaN</td>\n",
       "      <td>NaN</td>\n",
       "      <td>ns</td>\n",
       "      <td>NaN</td>\n",
       "      <td>NaN</td>\n",
       "      <td>ns</td>\n",
       "      <td>NaN</td>\n",
       "    </tr>\n",
       "    <tr>\n",
       "      <th>1</th>\n",
       "      <td>NaN</td>\n",
       "      <td>NaN</td>\n",
       "      <td>NaN</td>\n",
       "      <td>NaN</td>\n",
       "      <td>NaN</td>\n",
       "      <td>NaN</td>\n",
       "      <td>NaN</td>\n",
       "      <td>Weighted</td>\n",
       "      <td>Weighted</td>\n",
       "      <td>Weighted</td>\n",
       "      <td>Weighted</td>\n",
       "      <td>Weighted</td>\n",
       "      <td>Weighted</td>\n",
       "      <td>Weighted</td>\n",
       "      <td>Weighted</td>\n",
       "      <td>Weighted</td>\n",
       "      <td>Weighted</td>\n",
       "    </tr>\n",
       "    <tr>\n",
       "      <th>2</th>\n",
       "      <td>0.0</td>\n",
       "      <td>11640</td>\n",
       "      <td>3534.2</td>\n",
       "      <td>8105.8</td>\n",
       "      <td>2.293532</td>\n",
       "      <td>0.696375</td>\n",
       "      <td>4267.0</td>\n",
       "      <td>1713.807</td>\n",
       "      <td>3.793765</td>\n",
       "      <td>0.02203813</td>\n",
       "      <td>0.95298407025004</td>\n",
       "      <td>610.1302</td>\n",
       "      <td>0.5257378</td>\n",
       "      <td>0.05005014</td>\n",
       "      <td>0.04701592974996</td>\n",
       "      <td>3.641</td>\n",
       "      <td>11.34</td>\n",
       "    </tr>\n",
       "  </tbody>\n",
       "</table>\n",
       "</div>"
      ],
      "text/plain": [
       "   Channel     BR     DCR Samp BR  Unnamed: 4  Unnamed: 5  #Bursts    A1 (4)  \\\n",
       "0      NaN     Hz      Hz      Hz         NaN         NaN      NaN       NaN   \n",
       "1      NaN    NaN     NaN     NaN         NaN         NaN      NaN  Weighted   \n",
       "2      0.0  11640  3534.2  8105.8    2.293532    0.696375   4267.0  1713.807   \n",
       "\n",
       "   Tau1 (4)   dTau1 (4)            f1 (4)    A2 (4)   Tau2 (4)   dTau2 (4)  \\\n",
       "0        ns         NaN               NaN       NaN         ns         NaN   \n",
       "1  Weighted    Weighted          Weighted  Weighted   Weighted    Weighted   \n",
       "2  3.793765  0.02203813  0.95298407025004  610.1302  0.5257378  0.05005014   \n",
       "\n",
       "             f2 (4) <Tau> (4)    BL (4)  \n",
       "0               NaN        ns       NaN  \n",
       "1          Weighted  Weighted  Weighted  \n",
       "2  0.04701592974996     3.641     11.34  "
      ]
     },
     "execution_count": 50,
     "metadata": {},
     "output_type": "execute_result"
    }
   ],
   "source": [
    "df_do_r = pd.read_csv('data/T-NTD-3new_66pM-100mW-LP-BP-Dich532-635_7_Fit_Results.csv')\n",
    "df_do_r[:3]"
   ]
  },
  {
   "cell_type": "code",
   "execution_count": 102,
   "metadata": {
    "collapsed": false,
    "deletable": true,
    "editable": true
   },
   "outputs": [
    {
     "data": {
      "text/html": [
       "<div>\n",
       "<table border=\"1\" class=\"dataframe\">\n",
       "  <thead>\n",
       "    <tr style=\"text-align: right;\">\n",
       "      <th></th>\n",
       "      <th>Channel</th>\n",
       "      <th>BR</th>\n",
       "      <th>DCR</th>\n",
       "      <th>Samp BR</th>\n",
       "      <th>Unnamed: 4</th>\n",
       "      <th>Unnamed: 5</th>\n",
       "      <th>#Bursts</th>\n",
       "      <th>A1 (4)</th>\n",
       "      <th>Tau1 (4)</th>\n",
       "      <th>dTau1 (4)</th>\n",
       "      <th>f1 (4)</th>\n",
       "      <th>A2 (4)</th>\n",
       "      <th>Tau2 (4)</th>\n",
       "      <th>dTau2 (4)</th>\n",
       "      <th>f2 (4)</th>\n",
       "      <th>&lt;Tau&gt; (4)</th>\n",
       "      <th>BL (4)</th>\n",
       "      <th>Unnamed: 17</th>\n",
       "    </tr>\n",
       "  </thead>\n",
       "  <tbody>\n",
       "    <tr>\n",
       "      <th>0</th>\n",
       "      <td>NaN</td>\n",
       "      <td>Hz</td>\n",
       "      <td>Hz</td>\n",
       "      <td>Hz</td>\n",
       "      <td>NaN</td>\n",
       "      <td>NaN</td>\n",
       "      <td>NaN</td>\n",
       "      <td>NaN</td>\n",
       "      <td>ns</td>\n",
       "      <td>NaN</td>\n",
       "      <td>NaN</td>\n",
       "      <td>NaN</td>\n",
       "      <td>ns</td>\n",
       "      <td>NaN</td>\n",
       "      <td>NaN</td>\n",
       "      <td>ns</td>\n",
       "      <td>NaN</td>\n",
       "      <td>NaN</td>\n",
       "    </tr>\n",
       "    <tr>\n",
       "      <th>1</th>\n",
       "      <td>NaN</td>\n",
       "      <td>NaN</td>\n",
       "      <td>NaN</td>\n",
       "      <td>NaN</td>\n",
       "      <td>NaN</td>\n",
       "      <td>NaN</td>\n",
       "      <td>NaN</td>\n",
       "      <td>Weighted</td>\n",
       "      <td>Weighted</td>\n",
       "      <td>Weighted</td>\n",
       "      <td>Weighted</td>\n",
       "      <td>Weighted</td>\n",
       "      <td>Weighted</td>\n",
       "      <td>Weighted</td>\n",
       "      <td>Weighted</td>\n",
       "      <td>Weighted</td>\n",
       "      <td>Weighted</td>\n",
       "      <td>NaN</td>\n",
       "    </tr>\n",
       "    <tr>\n",
       "      <th>2</th>\n",
       "      <td>0.0</td>\n",
       "      <td>6960</td>\n",
       "      <td>3534.2</td>\n",
       "      <td>3425.8</td>\n",
       "      <td>0.969328</td>\n",
       "      <td>0.492213</td>\n",
       "      <td>4570.0</td>\n",
       "      <td>573.8358</td>\n",
       "      <td>3.509945</td>\n",
       "      <td>0.01123845</td>\n",
       "      <td>0.844563629658386</td>\n",
       "      <td>453.9413</td>\n",
       "      <td>0.8165984</td>\n",
       "      <td>0.06558247</td>\n",
       "      <td>0.155436370341615</td>\n",
       "      <td>3.099</td>\n",
       "      <td>10.41</td>\n",
       "      <td>NaN</td>\n",
       "    </tr>\n",
       "  </tbody>\n",
       "</table>\n",
       "</div>"
      ],
      "text/plain": [
       "   Channel    BR     DCR Samp BR  Unnamed: 4  Unnamed: 5  #Bursts    A1 (4)  \\\n",
       "0      NaN    Hz      Hz      Hz         NaN         NaN      NaN       NaN   \n",
       "1      NaN   NaN     NaN     NaN         NaN         NaN      NaN  Weighted   \n",
       "2      0.0  6960  3534.2  3425.8    0.969328    0.492213   4570.0  573.8358   \n",
       "\n",
       "   Tau1 (4)   dTau1 (4)             f1 (4)    A2 (4)   Tau2 (4)   dTau2 (4)  \\\n",
       "0        ns         NaN                NaN       NaN         ns         NaN   \n",
       "1  Weighted    Weighted           Weighted  Weighted   Weighted    Weighted   \n",
       "2  3.509945  0.01123845  0.844563629658386  453.9413  0.8165984  0.06558247   \n",
       "\n",
       "              f2 (4) <Tau> (4)    BL (4)  Unnamed: 17  \n",
       "0                NaN        ns       NaN          NaN  \n",
       "1           Weighted  Weighted  Weighted          NaN  \n",
       "2  0.155436370341615     3.099     10.41          NaN  "
      ]
     },
     "execution_count": 102,
     "metadata": {},
     "output_type": "execute_result"
    }
   ],
   "source": [
    "df_fret_r = pd.read_csv('data/TA-15-NT-3_LP-BP-100mW_5_Fit_Results.csv')\n",
    "df_fret_r[:3]"
   ]
  },
  {
   "cell_type": "code",
   "execution_count": 76,
   "metadata": {
    "collapsed": false
   },
   "outputs": [
    {
     "data": {
      "text/html": [
       "<div>\n",
       "<table border=\"1\" class=\"dataframe\">\n",
       "  <thead>\n",
       "    <tr style=\"text-align: right;\">\n",
       "      <th></th>\n",
       "      <th>BG</th>\n",
       "      <th>DCR</th>\n",
       "      <th>Samp BR</th>\n",
       "      <th>Unnamed: 4</th>\n",
       "      <th>Unnamed: 5</th>\n",
       "      <th>#Bursts</th>\n",
       "      <th>A1</th>\n",
       "      <th>Tau1</th>\n",
       "      <th>dTau1</th>\n",
       "      <th>f1</th>\n",
       "      <th>A2</th>\n",
       "      <th>Tau2</th>\n",
       "      <th>dTau2</th>\n",
       "      <th>f2</th>\n",
       "      <th>&lt;Tau&gt;</th>\n",
       "      <th>baseline</th>\n",
       "    </tr>\n",
       "    <tr>\n",
       "      <th>Spot</th>\n",
       "      <th></th>\n",
       "      <th></th>\n",
       "      <th></th>\n",
       "      <th></th>\n",
       "      <th></th>\n",
       "      <th></th>\n",
       "      <th></th>\n",
       "      <th></th>\n",
       "      <th></th>\n",
       "      <th></th>\n",
       "      <th></th>\n",
       "      <th></th>\n",
       "      <th></th>\n",
       "      <th></th>\n",
       "      <th></th>\n",
       "      <th></th>\n",
       "    </tr>\n",
       "  </thead>\n",
       "  <tbody>\n",
       "    <tr>\n",
       "      <th>0</th>\n",
       "      <td>11640</td>\n",
       "      <td>3534.2</td>\n",
       "      <td>8105.8</td>\n",
       "      <td>2.293532</td>\n",
       "      <td>0.696375</td>\n",
       "      <td>4267.0</td>\n",
       "      <td>1713.8070</td>\n",
       "      <td>3.793765</td>\n",
       "      <td>0.022038</td>\n",
       "      <td>0.952984</td>\n",
       "      <td>610.1302</td>\n",
       "      <td>0.525738</td>\n",
       "      <td>0.050050</td>\n",
       "      <td>0.047016</td>\n",
       "      <td>3.641</td>\n",
       "      <td>11.340</td>\n",
       "    </tr>\n",
       "    <tr>\n",
       "      <th>1</th>\n",
       "      <td>8880</td>\n",
       "      <td>185.6</td>\n",
       "      <td>8694.4</td>\n",
       "      <td>46.844828</td>\n",
       "      <td>0.979099</td>\n",
       "      <td>6850.0</td>\n",
       "      <td>3271.0140</td>\n",
       "      <td>3.781924</td>\n",
       "      <td>0.028951</td>\n",
       "      <td>0.951395</td>\n",
       "      <td>1001.6550</td>\n",
       "      <td>0.630948</td>\n",
       "      <td>0.132100</td>\n",
       "      <td>0.048605</td>\n",
       "      <td>3.632</td>\n",
       "      <td>8.776</td>\n",
       "    </tr>\n",
       "    <tr>\n",
       "      <th>2</th>\n",
       "      <td>9818</td>\n",
       "      <td>618.2</td>\n",
       "      <td>9199.8</td>\n",
       "      <td>14.881592</td>\n",
       "      <td>0.937034</td>\n",
       "      <td>6407.0</td>\n",
       "      <td>2991.4590</td>\n",
       "      <td>3.865012</td>\n",
       "      <td>0.028178</td>\n",
       "      <td>0.942322</td>\n",
       "      <td>844.9431</td>\n",
       "      <td>0.837563</td>\n",
       "      <td>0.103472</td>\n",
       "      <td>0.057678</td>\n",
       "      <td>3.685</td>\n",
       "      <td>8.544</td>\n",
       "    </tr>\n",
       "    <tr>\n",
       "      <th>3</th>\n",
       "      <td>11590</td>\n",
       "      <td>1747.3</td>\n",
       "      <td>9842.7</td>\n",
       "      <td>5.633091</td>\n",
       "      <td>0.849241</td>\n",
       "      <td>5897.0</td>\n",
       "      <td>2544.2600</td>\n",
       "      <td>3.781370</td>\n",
       "      <td>0.005867</td>\n",
       "      <td>0.940600</td>\n",
       "      <td>926.0156</td>\n",
       "      <td>0.656108</td>\n",
       "      <td>0.008116</td>\n",
       "      <td>0.059400</td>\n",
       "      <td>3.611</td>\n",
       "      <td>14.480</td>\n",
       "    </tr>\n",
       "    <tr>\n",
       "      <th>4</th>\n",
       "      <td>11970</td>\n",
       "      <td>2196.8</td>\n",
       "      <td>9773.2</td>\n",
       "      <td>4.448835</td>\n",
       "      <td>0.816475</td>\n",
       "      <td>5932.0</td>\n",
       "      <td>2695.4380</td>\n",
       "      <td>3.829968</td>\n",
       "      <td>0.004340</td>\n",
       "      <td>0.938810</td>\n",
       "      <td>910.2735</td>\n",
       "      <td>0.739191</td>\n",
       "      <td>0.007435</td>\n",
       "      <td>0.061190</td>\n",
       "      <td>3.642</td>\n",
       "      <td>11.930</td>\n",
       "    </tr>\n",
       "    <tr>\n",
       "      <th>5</th>\n",
       "      <td>10630</td>\n",
       "      <td>443.5</td>\n",
       "      <td>10186.5</td>\n",
       "      <td>22.968433</td>\n",
       "      <td>0.958278</td>\n",
       "      <td>6352.0</td>\n",
       "      <td>3109.4160</td>\n",
       "      <td>3.830250</td>\n",
       "      <td>0.020854</td>\n",
       "      <td>0.943025</td>\n",
       "      <td>963.9191</td>\n",
       "      <td>0.746496</td>\n",
       "      <td>0.137308</td>\n",
       "      <td>0.056975</td>\n",
       "      <td>3.656</td>\n",
       "      <td>7.791</td>\n",
       "    </tr>\n",
       "    <tr>\n",
       "      <th>6</th>\n",
       "      <td>11590</td>\n",
       "      <td>1083.2</td>\n",
       "      <td>10506.8</td>\n",
       "      <td>9.699778</td>\n",
       "      <td>0.906540</td>\n",
       "      <td>6643.0</td>\n",
       "      <td>3122.6390</td>\n",
       "      <td>3.871201</td>\n",
       "      <td>0.008891</td>\n",
       "      <td>0.935565</td>\n",
       "      <td>969.1376</td>\n",
       "      <td>0.859080</td>\n",
       "      <td>0.028749</td>\n",
       "      <td>0.064435</td>\n",
       "      <td>3.677</td>\n",
       "      <td>10.550</td>\n",
       "    </tr>\n",
       "    <tr>\n",
       "      <th>7</th>\n",
       "      <td>11650</td>\n",
       "      <td>1203.2</td>\n",
       "      <td>10446.8</td>\n",
       "      <td>8.682513</td>\n",
       "      <td>0.896721</td>\n",
       "      <td>6052.0</td>\n",
       "      <td>2777.5120</td>\n",
       "      <td>3.858383</td>\n",
       "      <td>0.022034</td>\n",
       "      <td>0.938299</td>\n",
       "      <td>836.2266</td>\n",
       "      <td>0.842732</td>\n",
       "      <td>0.081361</td>\n",
       "      <td>0.061701</td>\n",
       "      <td>3.671</td>\n",
       "      <td>9.195</td>\n",
       "    </tr>\n",
       "    <tr>\n",
       "      <th>8</th>\n",
       "      <td>10440</td>\n",
       "      <td>46.5</td>\n",
       "      <td>10393.5</td>\n",
       "      <td>223.516129</td>\n",
       "      <td>0.995546</td>\n",
       "      <td>6598.0</td>\n",
       "      <td>2942.7980</td>\n",
       "      <td>3.977432</td>\n",
       "      <td>0.078806</td>\n",
       "      <td>0.910815</td>\n",
       "      <td>1103.1650</td>\n",
       "      <td>1.038931</td>\n",
       "      <td>0.175134</td>\n",
       "      <td>0.089185</td>\n",
       "      <td>3.684</td>\n",
       "      <td>7.094</td>\n",
       "    </tr>\n",
       "    <tr>\n",
       "      <th>9</th>\n",
       "      <td>10140</td>\n",
       "      <td>40.0</td>\n",
       "      <td>10100.0</td>\n",
       "      <td>252.500000</td>\n",
       "      <td>0.996055</td>\n",
       "      <td>6159.0</td>\n",
       "      <td>2927.7270</td>\n",
       "      <td>3.857867</td>\n",
       "      <td>0.010471</td>\n",
       "      <td>0.932984</td>\n",
       "      <td>834.6513</td>\n",
       "      <td>0.972032</td>\n",
       "      <td>0.051760</td>\n",
       "      <td>0.067016</td>\n",
       "      <td>3.665</td>\n",
       "      <td>6.159</td>\n",
       "    </tr>\n",
       "    <tr>\n",
       "      <th>10</th>\n",
       "      <td>10300</td>\n",
       "      <td>291.6</td>\n",
       "      <td>10008.4</td>\n",
       "      <td>34.322359</td>\n",
       "      <td>0.971689</td>\n",
       "      <td>5980.0</td>\n",
       "      <td>2701.3570</td>\n",
       "      <td>3.808104</td>\n",
       "      <td>0.044994</td>\n",
       "      <td>0.951310</td>\n",
       "      <td>782.6545</td>\n",
       "      <td>0.672732</td>\n",
       "      <td>0.033233</td>\n",
       "      <td>0.048690</td>\n",
       "      <td>3.659</td>\n",
       "      <td>6.450</td>\n",
       "    </tr>\n",
       "    <tr>\n",
       "      <th>11</th>\n",
       "      <td>10140</td>\n",
       "      <td>442.0</td>\n",
       "      <td>9698.0</td>\n",
       "      <td>21.941176</td>\n",
       "      <td>0.956410</td>\n",
       "      <td>5816.0</td>\n",
       "      <td>2638.6610</td>\n",
       "      <td>3.764978</td>\n",
       "      <td>0.040227</td>\n",
       "      <td>0.949033</td>\n",
       "      <td>671.1674</td>\n",
       "      <td>0.794924</td>\n",
       "      <td>0.057674</td>\n",
       "      <td>0.050967</td>\n",
       "      <td>3.615</td>\n",
       "      <td>7.422</td>\n",
       "    </tr>\n",
       "    <tr>\n",
       "      <th>12</th>\n",
       "      <td>9353</td>\n",
       "      <td>129.9</td>\n",
       "      <td>9223.1</td>\n",
       "      <td>71.001540</td>\n",
       "      <td>0.986111</td>\n",
       "      <td>5445.0</td>\n",
       "      <td>2368.4350</td>\n",
       "      <td>3.781138</td>\n",
       "      <td>0.024066</td>\n",
       "      <td>0.947186</td>\n",
       "      <td>762.3838</td>\n",
       "      <td>0.654972</td>\n",
       "      <td>0.070516</td>\n",
       "      <td>0.052814</td>\n",
       "      <td>3.618</td>\n",
       "      <td>6.242</td>\n",
       "    </tr>\n",
       "    <tr>\n",
       "      <th>13</th>\n",
       "      <td>9169</td>\n",
       "      <td>145.4</td>\n",
       "      <td>9023.6</td>\n",
       "      <td>62.060523</td>\n",
       "      <td>0.984142</td>\n",
       "      <td>5236.0</td>\n",
       "      <td>2117.8860</td>\n",
       "      <td>3.765810</td>\n",
       "      <td>0.031411</td>\n",
       "      <td>0.936577</td>\n",
       "      <td>706.2494</td>\n",
       "      <td>0.764720</td>\n",
       "      <td>0.021900</td>\n",
       "      <td>0.063423</td>\n",
       "      <td>3.576</td>\n",
       "      <td>5.503</td>\n",
       "    </tr>\n",
       "    <tr>\n",
       "      <th>14</th>\n",
       "      <td>11690</td>\n",
       "      <td>3100.4</td>\n",
       "      <td>8589.6</td>\n",
       "      <td>2.770481</td>\n",
       "      <td>0.734782</td>\n",
       "      <td>3613.0</td>\n",
       "      <td>1295.5710</td>\n",
       "      <td>3.837091</td>\n",
       "      <td>0.053820</td>\n",
       "      <td>0.940867</td>\n",
       "      <td>417.1589</td>\n",
       "      <td>0.748972</td>\n",
       "      <td>0.051205</td>\n",
       "      <td>0.059133</td>\n",
       "      <td>3.657</td>\n",
       "      <td>11.560</td>\n",
       "    </tr>\n",
       "    <tr>\n",
       "      <th>15</th>\n",
       "      <td>11850</td>\n",
       "      <td>3666.4</td>\n",
       "      <td>8183.6</td>\n",
       "      <td>2.232053</td>\n",
       "      <td>0.690599</td>\n",
       "      <td>1895.0</td>\n",
       "      <td>620.3727</td>\n",
       "      <td>3.782618</td>\n",
       "      <td>0.006789</td>\n",
       "      <td>0.943250</td>\n",
       "      <td>209.1878</td>\n",
       "      <td>0.674916</td>\n",
       "      <td>0.100400</td>\n",
       "      <td>0.056750</td>\n",
       "      <td>3.605</td>\n",
       "      <td>5.462</td>\n",
       "    </tr>\n",
       "  </tbody>\n",
       "</table>\n",
       "</div>"
      ],
      "text/plain": [
       "         BG     DCR  Samp BR  Unnamed: 4  Unnamed: 5  #Bursts         A1  \\\n",
       "Spot                                                                       \n",
       "0     11640  3534.2   8105.8    2.293532    0.696375   4267.0  1713.8070   \n",
       "1      8880   185.6   8694.4   46.844828    0.979099   6850.0  3271.0140   \n",
       "2      9818   618.2   9199.8   14.881592    0.937034   6407.0  2991.4590   \n",
       "3     11590  1747.3   9842.7    5.633091    0.849241   5897.0  2544.2600   \n",
       "4     11970  2196.8   9773.2    4.448835    0.816475   5932.0  2695.4380   \n",
       "5     10630   443.5  10186.5   22.968433    0.958278   6352.0  3109.4160   \n",
       "6     11590  1083.2  10506.8    9.699778    0.906540   6643.0  3122.6390   \n",
       "7     11650  1203.2  10446.8    8.682513    0.896721   6052.0  2777.5120   \n",
       "8     10440    46.5  10393.5  223.516129    0.995546   6598.0  2942.7980   \n",
       "9     10140    40.0  10100.0  252.500000    0.996055   6159.0  2927.7270   \n",
       "10    10300   291.6  10008.4   34.322359    0.971689   5980.0  2701.3570   \n",
       "11    10140   442.0   9698.0   21.941176    0.956410   5816.0  2638.6610   \n",
       "12     9353   129.9   9223.1   71.001540    0.986111   5445.0  2368.4350   \n",
       "13     9169   145.4   9023.6   62.060523    0.984142   5236.0  2117.8860   \n",
       "14    11690  3100.4   8589.6    2.770481    0.734782   3613.0  1295.5710   \n",
       "15    11850  3666.4   8183.6    2.232053    0.690599   1895.0   620.3727   \n",
       "\n",
       "          Tau1     dTau1        f1         A2      Tau2     dTau2        f2  \\\n",
       "Spot                                                                          \n",
       "0     3.793765  0.022038  0.952984   610.1302  0.525738  0.050050  0.047016   \n",
       "1     3.781924  0.028951  0.951395  1001.6550  0.630948  0.132100  0.048605   \n",
       "2     3.865012  0.028178  0.942322   844.9431  0.837563  0.103472  0.057678   \n",
       "3     3.781370  0.005867  0.940600   926.0156  0.656108  0.008116  0.059400   \n",
       "4     3.829968  0.004340  0.938810   910.2735  0.739191  0.007435  0.061190   \n",
       "5     3.830250  0.020854  0.943025   963.9191  0.746496  0.137308  0.056975   \n",
       "6     3.871201  0.008891  0.935565   969.1376  0.859080  0.028749  0.064435   \n",
       "7     3.858383  0.022034  0.938299   836.2266  0.842732  0.081361  0.061701   \n",
       "8     3.977432  0.078806  0.910815  1103.1650  1.038931  0.175134  0.089185   \n",
       "9     3.857867  0.010471  0.932984   834.6513  0.972032  0.051760  0.067016   \n",
       "10    3.808104  0.044994  0.951310   782.6545  0.672732  0.033233  0.048690   \n",
       "11    3.764978  0.040227  0.949033   671.1674  0.794924  0.057674  0.050967   \n",
       "12    3.781138  0.024066  0.947186   762.3838  0.654972  0.070516  0.052814   \n",
       "13    3.765810  0.031411  0.936577   706.2494  0.764720  0.021900  0.063423   \n",
       "14    3.837091  0.053820  0.940867   417.1589  0.748972  0.051205  0.059133   \n",
       "15    3.782618  0.006789  0.943250   209.1878  0.674916  0.100400  0.056750   \n",
       "\n",
       "      <Tau>  baseline  \n",
       "Spot                   \n",
       "0     3.641    11.340  \n",
       "1     3.632     8.776  \n",
       "2     3.685     8.544  \n",
       "3     3.611    14.480  \n",
       "4     3.642    11.930  \n",
       "5     3.656     7.791  \n",
       "6     3.677    10.550  \n",
       "7     3.671     9.195  \n",
       "8     3.684     7.094  \n",
       "9     3.665     6.159  \n",
       "10    3.659     6.450  \n",
       "11    3.615     7.422  \n",
       "12    3.618     6.242  \n",
       "13    3.576     5.503  \n",
       "14    3.657    11.560  \n",
       "15    3.605     5.462  "
      ]
     },
     "execution_count": 76,
     "metadata": {},
     "output_type": "execute_result"
    }
   ],
   "source": [
    "df_do = (df_do_r\n",
    "         .drop(0).drop(1)\n",
    "         .apply(pd.to_numeric)\n",
    "         .rename(columns={c: c.replace('(4)', '').strip() for c in df_do_r.columns})\n",
    "         .rename(columns={'BL': 'baseline', 'BR': 'BG'})\n",
    "         .assign(Channel=lambda x: x.Channel.astype('int'))\n",
    "         .set_index('Channel')\n",
    "         .rename_axis('Spot')\n",
    "         )\n",
    "df_do"
   ]
  },
  {
   "cell_type": "code",
   "execution_count": 104,
   "metadata": {
    "collapsed": false,
    "deletable": true,
    "editable": true
   },
   "outputs": [
    {
     "data": {
      "text/html": [
       "<div>\n",
       "<table border=\"1\" class=\"dataframe\">\n",
       "  <thead>\n",
       "    <tr style=\"text-align: right;\">\n",
       "      <th></th>\n",
       "      <th>BG</th>\n",
       "      <th>DCR</th>\n",
       "      <th>Samp BR</th>\n",
       "      <th>Unnamed: 4</th>\n",
       "      <th>Unnamed: 5</th>\n",
       "      <th>#Bursts</th>\n",
       "      <th>A1</th>\n",
       "      <th>Tau1</th>\n",
       "      <th>dTau1</th>\n",
       "      <th>f1</th>\n",
       "      <th>A2</th>\n",
       "      <th>Tau2</th>\n",
       "      <th>dTau2</th>\n",
       "      <th>f2</th>\n",
       "      <th>&lt;Tau&gt;</th>\n",
       "      <th>baseline</th>\n",
       "    </tr>\n",
       "    <tr>\n",
       "      <th>Spot</th>\n",
       "      <th></th>\n",
       "      <th></th>\n",
       "      <th></th>\n",
       "      <th></th>\n",
       "      <th></th>\n",
       "      <th></th>\n",
       "      <th></th>\n",
       "      <th></th>\n",
       "      <th></th>\n",
       "      <th></th>\n",
       "      <th></th>\n",
       "      <th></th>\n",
       "      <th></th>\n",
       "      <th></th>\n",
       "      <th></th>\n",
       "      <th></th>\n",
       "    </tr>\n",
       "  </thead>\n",
       "  <tbody>\n",
       "    <tr>\n",
       "      <th>0</th>\n",
       "      <td>6960</td>\n",
       "      <td>3534.2</td>\n",
       "      <td>3425.8</td>\n",
       "      <td>0.969328</td>\n",
       "      <td>0.492213</td>\n",
       "      <td>4570.0</td>\n",
       "      <td>573.8358</td>\n",
       "      <td>3.509945</td>\n",
       "      <td>0.011238</td>\n",
       "      <td>0.844564</td>\n",
       "      <td>453.9413</td>\n",
       "      <td>0.816598</td>\n",
       "      <td>0.065582</td>\n",
       "      <td>0.155436</td>\n",
       "      <td>3.099</td>\n",
       "      <td>10.410</td>\n",
       "    </tr>\n",
       "    <tr>\n",
       "      <th>1</th>\n",
       "      <td>3873</td>\n",
       "      <td>185.6</td>\n",
       "      <td>3687.4</td>\n",
       "      <td>19.867457</td>\n",
       "      <td>0.952078</td>\n",
       "      <td>8588.0</td>\n",
       "      <td>1269.3480</td>\n",
       "      <td>3.535146</td>\n",
       "      <td>0.019401</td>\n",
       "      <td>0.762992</td>\n",
       "      <td>1526.8920</td>\n",
       "      <td>0.912898</td>\n",
       "      <td>0.025144</td>\n",
       "      <td>0.237008</td>\n",
       "      <td>2.908</td>\n",
       "      <td>8.336</td>\n",
       "    </tr>\n",
       "    <tr>\n",
       "      <th>2</th>\n",
       "      <td>4459</td>\n",
       "      <td>618.2</td>\n",
       "      <td>3840.8</td>\n",
       "      <td>6.212876</td>\n",
       "      <td>0.861359</td>\n",
       "      <td>8589.0</td>\n",
       "      <td>1372.9520</td>\n",
       "      <td>3.539679</td>\n",
       "      <td>0.038553</td>\n",
       "      <td>0.798070</td>\n",
       "      <td>1308.4870</td>\n",
       "      <td>0.939746</td>\n",
       "      <td>0.042350</td>\n",
       "      <td>0.201930</td>\n",
       "      <td>3.013</td>\n",
       "      <td>10.370</td>\n",
       "    </tr>\n",
       "    <tr>\n",
       "      <th>3</th>\n",
       "      <td>5833</td>\n",
       "      <td>1747.3</td>\n",
       "      <td>4085.7</td>\n",
       "      <td>2.338293</td>\n",
       "      <td>0.700446</td>\n",
       "      <td>9212.0</td>\n",
       "      <td>1236.1980</td>\n",
       "      <td>3.539272</td>\n",
       "      <td>0.069571</td>\n",
       "      <td>0.803335</td>\n",
       "      <td>1223.8380</td>\n",
       "      <td>0.875203</td>\n",
       "      <td>0.029880</td>\n",
       "      <td>0.196665</td>\n",
       "      <td>3.000</td>\n",
       "      <td>20.820</td>\n",
       "    </tr>\n",
       "    <tr>\n",
       "      <th>4</th>\n",
       "      <td>6374</td>\n",
       "      <td>2196.8</td>\n",
       "      <td>4177.2</td>\n",
       "      <td>1.901493</td>\n",
       "      <td>0.655350</td>\n",
       "      <td>7927.0</td>\n",
       "      <td>1293.4420</td>\n",
       "      <td>3.571940</td>\n",
       "      <td>0.035386</td>\n",
       "      <td>0.826067</td>\n",
       "      <td>1180.6690</td>\n",
       "      <td>0.823931</td>\n",
       "      <td>0.019258</td>\n",
       "      <td>0.173933</td>\n",
       "      <td>3.082</td>\n",
       "      <td>14.250</td>\n",
       "    </tr>\n",
       "    <tr>\n",
       "      <th>5</th>\n",
       "      <td>4603</td>\n",
       "      <td>443.5</td>\n",
       "      <td>4159.5</td>\n",
       "      <td>9.378805</td>\n",
       "      <td>0.903650</td>\n",
       "      <td>9656.0</td>\n",
       "      <td>1583.2260</td>\n",
       "      <td>3.610062</td>\n",
       "      <td>0.038623</td>\n",
       "      <td>0.781895</td>\n",
       "      <td>1848.7520</td>\n",
       "      <td>0.862377</td>\n",
       "      <td>0.099797</td>\n",
       "      <td>0.218105</td>\n",
       "      <td>2.992</td>\n",
       "      <td>9.829</td>\n",
       "    </tr>\n",
       "    <tr>\n",
       "      <th>6</th>\n",
       "      <td>5231</td>\n",
       "      <td>1083.2</td>\n",
       "      <td>4147.8</td>\n",
       "      <td>3.829210</td>\n",
       "      <td>0.792927</td>\n",
       "      <td>9785.0</td>\n",
       "      <td>1687.2180</td>\n",
       "      <td>3.604497</td>\n",
       "      <td>0.030029</td>\n",
       "      <td>0.807894</td>\n",
       "      <td>1625.7630</td>\n",
       "      <td>0.889498</td>\n",
       "      <td>0.046161</td>\n",
       "      <td>0.192106</td>\n",
       "      <td>3.082</td>\n",
       "      <td>15.300</td>\n",
       "    </tr>\n",
       "    <tr>\n",
       "      <th>7</th>\n",
       "      <td>5358</td>\n",
       "      <td>1203.2</td>\n",
       "      <td>4154.8</td>\n",
       "      <td>3.453125</td>\n",
       "      <td>0.775439</td>\n",
       "      <td>8758.0</td>\n",
       "      <td>1524.9830</td>\n",
       "      <td>3.610938</td>\n",
       "      <td>0.036514</td>\n",
       "      <td>0.812750</td>\n",
       "      <td>1399.2280</td>\n",
       "      <td>0.906694</td>\n",
       "      <td>0.044076</td>\n",
       "      <td>0.187250</td>\n",
       "      <td>3.105</td>\n",
       "      <td>12.750</td>\n",
       "    </tr>\n",
       "    <tr>\n",
       "      <th>8</th>\n",
       "      <td>3999</td>\n",
       "      <td>46.5</td>\n",
       "      <td>3952.5</td>\n",
       "      <td>85.000000</td>\n",
       "      <td>0.988372</td>\n",
       "      <td>9982.0</td>\n",
       "      <td>1939.6870</td>\n",
       "      <td>3.505521</td>\n",
       "      <td>0.037094</td>\n",
       "      <td>0.818099</td>\n",
       "      <td>1794.7250</td>\n",
       "      <td>0.842394</td>\n",
       "      <td>0.038440</td>\n",
       "      <td>0.181901</td>\n",
       "      <td>3.021</td>\n",
       "      <td>9.125</td>\n",
       "    </tr>\n",
       "    <tr>\n",
       "      <th>9</th>\n",
       "      <td>3816</td>\n",
       "      <td>40.0</td>\n",
       "      <td>3776.0</td>\n",
       "      <td>94.400000</td>\n",
       "      <td>0.989518</td>\n",
       "      <td>9702.0</td>\n",
       "      <td>1707.9860</td>\n",
       "      <td>3.591924</td>\n",
       "      <td>0.047420</td>\n",
       "      <td>0.771588</td>\n",
       "      <td>1950.8020</td>\n",
       "      <td>0.930963</td>\n",
       "      <td>0.044877</td>\n",
       "      <td>0.228412</td>\n",
       "      <td>2.986</td>\n",
       "      <td>7.925</td>\n",
       "    </tr>\n",
       "    <tr>\n",
       "      <th>10</th>\n",
       "      <td>3945</td>\n",
       "      <td>291.6</td>\n",
       "      <td>3653.4</td>\n",
       "      <td>12.528807</td>\n",
       "      <td>0.926084</td>\n",
       "      <td>8921.0</td>\n",
       "      <td>1564.2710</td>\n",
       "      <td>3.530299</td>\n",
       "      <td>0.115712</td>\n",
       "      <td>0.821209</td>\n",
       "      <td>1396.7440</td>\n",
       "      <td>0.860791</td>\n",
       "      <td>0.075164</td>\n",
       "      <td>0.178791</td>\n",
       "      <td>3.033</td>\n",
       "      <td>8.334</td>\n",
       "    </tr>\n",
       "    <tr>\n",
       "      <th>11</th>\n",
       "      <td>3906</td>\n",
       "      <td>442.0</td>\n",
       "      <td>3464.0</td>\n",
       "      <td>7.837104</td>\n",
       "      <td>0.886841</td>\n",
       "      <td>8453.0</td>\n",
       "      <td>1374.7800</td>\n",
       "      <td>3.556347</td>\n",
       "      <td>0.012153</td>\n",
       "      <td>0.780423</td>\n",
       "      <td>1424.7840</td>\n",
       "      <td>0.965486</td>\n",
       "      <td>0.018984</td>\n",
       "      <td>0.219577</td>\n",
       "      <td>2.883</td>\n",
       "      <td>10.490</td>\n",
       "    </tr>\n",
       "    <tr>\n",
       "      <th>12</th>\n",
       "      <td>3369</td>\n",
       "      <td>129.9</td>\n",
       "      <td>3239.1</td>\n",
       "      <td>24.935335</td>\n",
       "      <td>0.961443</td>\n",
       "      <td>8501.0</td>\n",
       "      <td>1377.5170</td>\n",
       "      <td>3.542396</td>\n",
       "      <td>0.042254</td>\n",
       "      <td>0.778277</td>\n",
       "      <td>1519.5180</td>\n",
       "      <td>0.914884</td>\n",
       "      <td>0.054185</td>\n",
       "      <td>0.221723</td>\n",
       "      <td>2.814</td>\n",
       "      <td>8.280</td>\n",
       "    </tr>\n",
       "    <tr>\n",
       "      <th>13</th>\n",
       "      <td>3259</td>\n",
       "      <td>145.4</td>\n",
       "      <td>3113.6</td>\n",
       "      <td>21.414030</td>\n",
       "      <td>0.955385</td>\n",
       "      <td>7598.0</td>\n",
       "      <td>1159.9880</td>\n",
       "      <td>3.491576</td>\n",
       "      <td>0.003141</td>\n",
       "      <td>0.774830</td>\n",
       "      <td>1372.7130</td>\n",
       "      <td>0.857429</td>\n",
       "      <td>0.027729</td>\n",
       "      <td>0.225170</td>\n",
       "      <td>2.790</td>\n",
       "      <td>7.519</td>\n",
       "    </tr>\n",
       "    <tr>\n",
       "      <th>14</th>\n",
       "      <td>6129</td>\n",
       "      <td>3100.4</td>\n",
       "      <td>3028.6</td>\n",
       "      <td>0.976842</td>\n",
       "      <td>0.494143</td>\n",
       "      <td>8687.0</td>\n",
       "      <td>824.9725</td>\n",
       "      <td>3.526126</td>\n",
       "      <td>0.012434</td>\n",
       "      <td>0.806167</td>\n",
       "      <td>730.9814</td>\n",
       "      <td>0.956825</td>\n",
       "      <td>0.046687</td>\n",
       "      <td>0.193833</td>\n",
       "      <td>2.913</td>\n",
       "      <td>31.380</td>\n",
       "    </tr>\n",
       "    <tr>\n",
       "      <th>15</th>\n",
       "      <td>6468</td>\n",
       "      <td>3666.4</td>\n",
       "      <td>2801.6</td>\n",
       "      <td>0.764128</td>\n",
       "      <td>0.433148</td>\n",
       "      <td>3475.0</td>\n",
       "      <td>431.2979</td>\n",
       "      <td>3.496365</td>\n",
       "      <td>0.039538</td>\n",
       "      <td>0.993100</td>\n",
       "      <td>292.6543</td>\n",
       "      <td>0.035800</td>\n",
       "      <td>0.060150</td>\n",
       "      <td>0.006900</td>\n",
       "      <td>3.033</td>\n",
       "      <td>9.117</td>\n",
       "    </tr>\n",
       "  </tbody>\n",
       "</table>\n",
       "</div>"
      ],
      "text/plain": [
       "        BG     DCR  Samp BR  Unnamed: 4  Unnamed: 5  #Bursts         A1  \\\n",
       "Spot                                                                      \n",
       "0     6960  3534.2   3425.8    0.969328    0.492213   4570.0   573.8358   \n",
       "1     3873   185.6   3687.4   19.867457    0.952078   8588.0  1269.3480   \n",
       "2     4459   618.2   3840.8    6.212876    0.861359   8589.0  1372.9520   \n",
       "3     5833  1747.3   4085.7    2.338293    0.700446   9212.0  1236.1980   \n",
       "4     6374  2196.8   4177.2    1.901493    0.655350   7927.0  1293.4420   \n",
       "5     4603   443.5   4159.5    9.378805    0.903650   9656.0  1583.2260   \n",
       "6     5231  1083.2   4147.8    3.829210    0.792927   9785.0  1687.2180   \n",
       "7     5358  1203.2   4154.8    3.453125    0.775439   8758.0  1524.9830   \n",
       "8     3999    46.5   3952.5   85.000000    0.988372   9982.0  1939.6870   \n",
       "9     3816    40.0   3776.0   94.400000    0.989518   9702.0  1707.9860   \n",
       "10    3945   291.6   3653.4   12.528807    0.926084   8921.0  1564.2710   \n",
       "11    3906   442.0   3464.0    7.837104    0.886841   8453.0  1374.7800   \n",
       "12    3369   129.9   3239.1   24.935335    0.961443   8501.0  1377.5170   \n",
       "13    3259   145.4   3113.6   21.414030    0.955385   7598.0  1159.9880   \n",
       "14    6129  3100.4   3028.6    0.976842    0.494143   8687.0   824.9725   \n",
       "15    6468  3666.4   2801.6    0.764128    0.433148   3475.0   431.2979   \n",
       "\n",
       "          Tau1     dTau1        f1         A2      Tau2     dTau2        f2  \\\n",
       "Spot                                                                          \n",
       "0     3.509945  0.011238  0.844564   453.9413  0.816598  0.065582  0.155436   \n",
       "1     3.535146  0.019401  0.762992  1526.8920  0.912898  0.025144  0.237008   \n",
       "2     3.539679  0.038553  0.798070  1308.4870  0.939746  0.042350  0.201930   \n",
       "3     3.539272  0.069571  0.803335  1223.8380  0.875203  0.029880  0.196665   \n",
       "4     3.571940  0.035386  0.826067  1180.6690  0.823931  0.019258  0.173933   \n",
       "5     3.610062  0.038623  0.781895  1848.7520  0.862377  0.099797  0.218105   \n",
       "6     3.604497  0.030029  0.807894  1625.7630  0.889498  0.046161  0.192106   \n",
       "7     3.610938  0.036514  0.812750  1399.2280  0.906694  0.044076  0.187250   \n",
       "8     3.505521  0.037094  0.818099  1794.7250  0.842394  0.038440  0.181901   \n",
       "9     3.591924  0.047420  0.771588  1950.8020  0.930963  0.044877  0.228412   \n",
       "10    3.530299  0.115712  0.821209  1396.7440  0.860791  0.075164  0.178791   \n",
       "11    3.556347  0.012153  0.780423  1424.7840  0.965486  0.018984  0.219577   \n",
       "12    3.542396  0.042254  0.778277  1519.5180  0.914884  0.054185  0.221723   \n",
       "13    3.491576  0.003141  0.774830  1372.7130  0.857429  0.027729  0.225170   \n",
       "14    3.526126  0.012434  0.806167   730.9814  0.956825  0.046687  0.193833   \n",
       "15    3.496365  0.039538  0.993100   292.6543  0.035800  0.060150  0.006900   \n",
       "\n",
       "      <Tau>  baseline  \n",
       "Spot                   \n",
       "0     3.099    10.410  \n",
       "1     2.908     8.336  \n",
       "2     3.013    10.370  \n",
       "3     3.000    20.820  \n",
       "4     3.082    14.250  \n",
       "5     2.992     9.829  \n",
       "6     3.082    15.300  \n",
       "7     3.105    12.750  \n",
       "8     3.021     9.125  \n",
       "9     2.986     7.925  \n",
       "10    3.033     8.334  \n",
       "11    2.883    10.490  \n",
       "12    2.814     8.280  \n",
       "13    2.790     7.519  \n",
       "14    2.913    31.380  \n",
       "15    3.033     9.117  "
      ]
     },
     "execution_count": 104,
     "metadata": {},
     "output_type": "execute_result"
    }
   ],
   "source": [
    "df_fret = (df_fret_r\n",
    "         .drop(0).drop(1).drop('Unnamed: 17', 1)\n",
    "         .apply(pd.to_numeric)\n",
    "         .rename(columns={c: c.replace('(4)', '').strip() for c in df_do_r.columns})\n",
    "         .rename(columns={'BL': 'baseline', 'BR': 'BG'})\n",
    "         .assign(Channel=lambda x: x.Channel.astype('int'))\n",
    "         .set_index('Channel')\n",
    "         .rename_axis('Spot')\n",
    "         \n",
    "         )\n",
    "df_fret"
   ]
  },
  {
   "cell_type": "code",
   "execution_count": 77,
   "metadata": {
    "collapsed": false
   },
   "outputs": [
    {
     "data": {
      "text/plain": [
       "<matplotlib.axes._subplots.AxesSubplot at 0xdff1668>"
      ]
     },
     "execution_count": 77,
     "metadata": {},
     "output_type": "execute_result"
    },
    {
     "data": {
      "image/png": "[encoded data removed]",
      "text/plain": [
       "<matplotlib.figure.Figure at 0xcb14b38>"
      ]
     },
     "metadata": {},
     "output_type": "display_data"
    }
   ],
   "source": [
    "linplot16(df_do.Tau1)\n",
    "linplot16(df_do.Tau2, ax=plt.gca())"
   ]
  },
  {
   "cell_type": "code",
   "execution_count": 105,
   "metadata": {
    "collapsed": false,
    "deletable": true,
    "editable": true
   },
   "outputs": [
    {
     "data": {
      "text/plain": [
       "<matplotlib.axes._subplots.AxesSubplot at 0xf95f358>"
      ]
     },
     "execution_count": 105,
     "metadata": {},
     "output_type": "execute_result"
    },
    {
     "data": {
      "image/png": "[encoded data removed]",
      "text/plain": [
       "<matplotlib.figure.Figure at 0xfc32b38>"
      ]
     },
     "metadata": {},
     "output_type": "display_data"
    }
   ],
   "source": [
    "linplot16(df_fret.Tau1)\n",
    "linplot16(df_fret.Tau2, ax=plt.gca())"
   ]
  },
  {
   "cell_type": "code",
   "execution_count": 78,
   "metadata": {
    "collapsed": false,
    "deletable": true,
    "editable": true
   },
   "outputs": [
    {
     "data": {
      "text/plain": [
       "<matplotlib.axes._subplots.AxesSubplot at 0xe0910f0>"
      ]
     },
     "execution_count": 78,
     "metadata": {},
     "output_type": "execute_result"
    },
    {
     "data": {
      "image/png": "[encoded data removed]",
      "text/plain": [
       "<matplotlib.figure.Figure at 0xcedd160>"
      ]
     },
     "metadata": {},
     "output_type": "display_data"
    }
   ],
   "source": [
    "linplot16(df_do.A1)\n",
    "linplot16(df_do.A2, ax=plt.gca())"
   ]
  },
  {
   "cell_type": "code",
   "execution_count": 196,
   "metadata": {
    "collapsed": false,
    "deletable": true,
    "editable": true
   },
   "outputs": [
    {
     "data": {
      "text/plain": [
       "<matplotlib.axes._subplots.AxesSubplot at 0xf936a20>"
      ]
     },
     "execution_count": 196,
     "metadata": {},
     "output_type": "execute_result"
    },
    {
     "data": {
      "image/png": "[encoded data removed]",
      "text/plain": [
       "<matplotlib.figure.Figure at 0xfbfa048>"
      ]
     },
     "metadata": {},
     "output_type": "display_data"
    }
   ],
   "source": [
    "linplot16('A1', data=df_fret)\n",
    "linplot16('A2', data=df_fret, ax=plt.gca())"
   ]
  },
  {
   "cell_type": "code",
   "execution_count": 79,
   "metadata": {
    "collapsed": false
   },
   "outputs": [
    {
     "data": {
      "text/plain": [
       "<matplotlib.axes._subplots.AxesSubplot at 0xe0f7e48>"
      ]
     },
     "execution_count": 79,
     "metadata": {},
     "output_type": "execute_result"
    },
    {
     "data": {
      "image/png": "[encoded data removed]",
      "text/plain": [
       "<matplotlib.figure.Figure at 0xe088f60>"
      ]
     },
     "metadata": {},
     "output_type": "display_data"
    }
   ],
   "source": [
    "linplot16(df_do.baseline)"
   ]
  },
  {
   "cell_type": "code",
   "execution_count": 107,
   "metadata": {
    "collapsed": false,
    "deletable": true,
    "editable": true
   },
   "outputs": [
    {
     "data": {
      "text/plain": [
       "<matplotlib.axes._subplots.AxesSubplot at 0xfb6fcc0>"
      ]
     },
     "execution_count": 107,
     "metadata": {},
     "output_type": "execute_result"
    },
    {
     "data": {
      "image/png": "[encoded data removed]",
      "text/plain": [
       "<matplotlib.figure.Figure at 0xfb558d0>"
      ]
     },
     "metadata": {},
     "output_type": "display_data"
    }
   ],
   "source": [
    "linplot16(df_fret.baseline)"
   ]
  },
  {
   "cell_type": "code",
   "execution_count": 139,
   "metadata": {
    "collapsed": false,
    "deletable": true,
    "editable": true
   },
   "outputs": [
    {
     "data": {
      "image/png": "[encoded data removed]",
      "text/plain": [
       "<matplotlib.figure.Figure at 0xfe72ac8>"
      ]
     },
     "metadata": {},
     "output_type": "display_data"
    }
   ],
   "source": [
    "df = df_do\n",
    "linplot16(df.Tau1, kind='errorbar', yerr=df.dTau1, marker='o', ms=8, lw=0, elinewidth=3, \n",
    "          title='D-only Sample', label=r'$\\tau_{DO} \\pm 1\\sigma$')\n",
    "plt.ylim(3.6, 4.1)\n",
    "plt.axhline(df.Tau1.mean(), ls='--', color='k', lw=1.2, label=r'$\\langle\\tau_{DO}\\rangle$')\n",
    "plt.axhspan(df.Tau1.mean() - 0.1, df.Tau1.mean() + 0.1, alpha=0.15, label='0.2 ns range')\n",
    "plt.ylabel('Lifetime (ns)')\n",
    "leg = plt.legend(frameon=True)#, loc='center left', bbox_to_anchor=(1, 0.5))\n",
    "leg.get_frame().set(alpha=1)\n",
    "sns.despine(trim=True, offset=0)"
   ]
  },
  {
   "cell_type": "code",
   "execution_count": 140,
   "metadata": {
    "collapsed": false,
    "deletable": true,
    "editable": true
   },
   "outputs": [
    {
     "data": {
      "image/png": "[encoded data removed]",
      "text/plain": [
       "<matplotlib.figure.Figure at 0x10ee34e0>"
      ]
     },
     "metadata": {},
     "output_type": "display_data"
    }
   ],
   "source": [
    "df = df_fret\n",
    "linplot16(df.Tau1, kind='errorbar', yerr=df.dTau1, marker='o', ms=8, lw=0, elinewidth=3, \n",
    "          title='FRET Sample', label=r'$\\tau_{DO} \\pm 1\\sigma$')\n",
    "plt.ylim(3.4, 3.8001)\n",
    "plt.axhline(df.Tau1.mean(), ls='--', color='k', lw=1.2, label=r'$\\langle\\tau_{DO}\\rangle$')\n",
    "plt.axhspan(df.Tau1.mean() - 0.1, df.Tau1.mean() + 0.1, alpha=0.15, label='0.2 ns range')\n",
    "plt.ylabel('Lifetime (ns)')\n",
    "leg = plt.legend(frameon=True)#, loc='center left', bbox_to_anchor=(1, 0.5))\n",
    "leg.get_frame().set(alpha=1)\n",
    "sns.despine(trim=True, offset=0)"
   ]
  },
  {
   "cell_type": "code",
   "execution_count": 146,
   "metadata": {
    "collapsed": false,
    "deletable": true,
    "editable": true
   },
   "outputs": [
    {
     "data": {
      "image/png": "[encoded data removed]",
      "text/plain": [
       "<matplotlib.figure.Figure at 0xfc35f60>"
      ]
     },
     "metadata": {},
     "output_type": "display_data"
    }
   ],
   "source": [
    "df = df_fret\n",
    "linplot16(df.Tau2, kind='errorbar', yerr=df.dTau2, marker='o', ms=8, lw=0, elinewidth=3,\n",
    "          title='FRET Sample', label=r'$\\tau_{FRET} \\pm 1\\sigma$')\n",
    "plt.ylim(0, 1.2001)\n",
    "plt.axhline(df.Tau2.mean(), ls='--', color='k', lw=1.2, label=r'$\\langle\\tau_{FRET}\\rangle$')\n",
    "plt.axhspan(df.Tau2.mean() - 0.1, df.Tau2.mean() + 0.1, alpha=0.15, label='0.2 ns range')\n",
    "plt.ylabel('Lifetime (ns)')\n",
    "leg = plt.legend(frameon=True)#, loc='lower right')#, loc='center left', bbox_to_anchor=(1, 0.5))\n",
    "leg.get_frame().set(alpha=1)\n",
    "sns.despine(trim=True, offset=0)"
   ]
  },
  {
   "cell_type": "code",
   "execution_count": 194,
   "metadata": {
    "collapsed": false
   },
   "outputs": [
    {
     "data": {
      "image/png": "[encoded data removed]",
      "text/plain": [
       "<matplotlib.figure.Figure at 0x1121bc50>"
      ]
     },
     "metadata": {},
     "output_type": "display_data"
    }
   ],
   "source": [
    "fig, ax = plt.subplots(1, 2, figsize=(11, 4))\n",
    "plt.subplots_adjust(wspace=0.2)\n",
    "\n",
    "df = df_do\n",
    "linplot16(df.Tau1, kind='errorbar', yerr=df.dTau1, marker='o', ms=8, lw=0, elinewidth=3, color='C1',\n",
    "          title='D-only Sample', label=r'$\\tau_{DO} \\pm 1\\sigma$', ax=ax[0])\n",
    "ax[0].axhline(df.Tau1.mean(), ls='--', color='k', lw=1.2, label=r'$\\langle\\tau_{DO}\\rangle$')\n",
    "ax[0].axhspan(df.Tau1.mean() - 0.1, df.Tau1.mean() + 0.1, color='C0', alpha=0.15, label='0.2 ns range')\n",
    "ax[0].set_ylim(3.6, 4.1)\n",
    "ax[0].set_ylabel('Lifetime (ns)')\n",
    "leg = ax[0].legend(frameon=True)#, loc='center left', bbox_to_anchor=(1, 0.5))\n",
    "leg.get_frame().set(alpha=1)\n",
    "\n",
    "df = df_fret\n",
    "linplot16(df.Tau2, kind='errorbar', yerr=df.dTau2, marker='o', ms=8, lw=0, elinewidth=3, color='C2',\n",
    "          title='FRET Sample', label=r'$\\tau_{FRET} \\pm 1\\sigma$', ax=ax[1])\n",
    "ax[1].axhline(df.Tau2.mean(), ls='--', color='k', lw=1.2, label=r'$\\langle\\tau_{FRET}\\rangle$')\n",
    "ax[1].axhspan(df.Tau2.mean() - 0.1, df.Tau2.mean() + 0.1, color='C0', alpha=0.15, label='0.2 ns range')\n",
    "ax[1].set_ylim(0, 1.2001)\n",
    "#ax[1].set_ylabel('Lifetime (ns)')\n",
    "leg = ax[1].legend(frameon=True)#, loc='lower right')#, loc='center left', bbox_to_anchor=(1, 0.5))\n",
    "leg.get_frame().set(alpha=1)\n",
    "\n",
    "for p, a in zip('AB', ax):\n",
    "    sns.despine(ax=a, trim=True, offset=0)\n",
    "    a.text(0.02, 1.05, p, fontsize=24, transform=a.transAxes)\n",
    "savefig('lifetime_fit_comp.png')"
   ]
  },
  {
   "cell_type": "code",
   "execution_count": 184,
   "metadata": {
    "collapsed": false
   },
   "outputs": [
    {
     "data": {
      "text/plain": [
       "0.76407613113504935"
      ]
     },
     "execution_count": 184,
     "metadata": {},
     "output_type": "execute_result"
    }
   ],
   "source": [
    "E_mean = 1 - df_fret.Tau2.mean()/df_fret.Tau1.mean()\n",
    "E_mean"
   ]
  },
  {
   "cell_type": "code",
   "execution_count": 252,
   "metadata": {
    "collapsed": false
   },
   "outputs": [],
   "source": [
    "s_2015_09_08_s5_ch0 = r\"\"\"\n",
    "5.738358E+2 (+/- 7.918332E+0)\t3.509945E+0 (+/- 1.123845E-2)\n",
    "4.539413E+2 (+/- 2.273237E+1)\t8.165984E-1 (+/- 6.558247E-2)\n",
    "3.998304E+3 (+/- 3.033366E+2)\t7.429515E-5 (+/- 7.260697E-5)\n",
    "Mean Tau (ns): 3.099\n",
    "Reduced Chi 2: 1.035421E+0 (Convergence Criterion: 1.000000E-1)\n",
    "\"\"\".strip()"
   ]
  },
  {
   "cell_type": "code",
   "execution_count": 253,
   "metadata": {
    "collapsed": false,
    "deletable": true,
    "editable": true
   },
   "outputs": [],
   "source": [
    "s_2015_09_08_s5_ch8 = r\"\"\"\n",
    "1.939687E+3 (+/- 4.027781E+1)\t3.505521E+0 (+/- 3.709420E-2)\n",
    "1.794725E+3 (+/- 5.658245E+1)\t8.423944E-1 (+/- 3.843980E-2)\n",
    "2.637382E+4 (+/- 7.788459E+2)\t6.871375E-7 (+/- 1.539140E-8)\n",
    "Mean Tau (ns): 3.021\n",
    "Reduced Chi 2: 4.156553E+0 (Convergence Criterion: 1.000000E-1)\n",
    "\"\"\".strip()"
   ]
  },
  {
   "cell_type": "code",
   "execution_count": 246,
   "metadata": {
    "collapsed": false,
    "deletable": true,
    "editable": true
   },
   "outputs": [],
   "source": [
    "s_2015_09_04_s7_ch0 = r\"\"\"\n",
    "1.713807E+3 (+/- 1.642336E+1) 3.793765E+0 (+/- 2.203813E-2)\n",
    "2.296607E+3 (+/- 3.878942E+1) 5.489616E-7 (+/- 3.041786E-8)\n",
    "6.101302E+2 (+/- 2.609385E+1) 5.257378E-1 (+/- 5.005014E-2)\n",
    "Mean Tau (ns): 3.641\n",
    "Reduced Chi 2: 1.251208E+0 (Convergence Criterion: 1.000000E-1)\n",
    "\"\"\".strip()"
   ]
  },
  {
   "cell_type": "code",
   "execution_count": 247,
   "metadata": {
    "collapsed": false,
    "deletable": true,
    "editable": true
   },
   "outputs": [],
   "source": [
    "s_2015_09_04_s7_ch8 = r\"\"\"\n",
    "2.942798E+3 (+/- 1.791387E+2) 3.977432E+0 (+/- 7.880588E-2)\n",
    "1.463724E+4 (+/- 1.399626E+3) 4.186025E-6 (+/- 4.426261E-7)\n",
    "1.103165E+3 (+/- 1.295558E+2) 1.038931E+0 (+/- 1.751343E-1)\n",
    "Mean Tau (ns): 3.684\n",
    "Reduced Chi 2: 2.629420E+0 (Convergence Criterion: 1.000000E-1)\n",
    "\"\"\".strip()"
   ]
  },
  {
   "cell_type": "code",
   "execution_count": 254,
   "metadata": {
    "collapsed": true
   },
   "outputs": [],
   "source": [
    "from collections import defaultdict"
   ]
  },
  {
   "cell_type": "code",
   "execution_count": 255,
   "metadata": {
    "collapsed": false
   },
   "outputs": [],
   "source": [
    "def get_params(s):\n",
    "    parnames = ['ampl', 'tau']\n",
    "    param = defaultdict(list)\n",
    "    for line in s.split('\\n')[:3]:\n",
    "        for name, p_str in zip(parnames, line.split(')')[:-1]):\n",
    "            val, std = [float(x.strip()) for x in p_str.split('(+/-')]\n",
    "            param[name].append(val)\n",
    "            param[name+'_std'].append(std)\n",
    "    return param"
   ]
  },
  {
   "cell_type": "code",
   "execution_count": 256,
   "metadata": {
    "collapsed": false
   },
   "outputs": [
    {
     "data": {
      "text/plain": [
       "defaultdict(list,\n",
       "            {'ampl': [573.8358, 453.9413, 3998.304],\n",
       "             'ampl_std': [7.918332, 22.73237, 303.3366],\n",
       "             'tau': [3.509945, 0.8165984, 7.429515e-05],\n",
       "             'tau_std': [0.01123845, 0.06558247, 7.260697e-05]})"
      ]
     },
     "execution_count": 256,
     "metadata": {},
     "output_type": "execute_result"
    }
   ],
   "source": [
    "param0 = get_params(s_2015_09_08_s5_ch0)\n",
    "param0"
   ]
  },
  {
   "cell_type": "code",
   "execution_count": 257,
   "metadata": {
    "collapsed": false,
    "deletable": true,
    "editable": true
   },
   "outputs": [
    {
     "data": {
      "text/plain": [
       "defaultdict(list,\n",
       "            {'ampl': [1939.687, 1794.725, 26373.82],\n",
       "             'ampl_std': [40.27781, 56.58245, 778.8459],\n",
       "             'tau': [3.505521, 0.8423944, 6.871375e-07],\n",
       "             'tau_std': [0.0370942, 0.0384398, 1.53914e-08]})"
      ]
     },
     "execution_count": 257,
     "metadata": {},
     "output_type": "execute_result"
    }
   ],
   "source": [
    "param8 = get_params(s_2015_09_08_s5_ch8)\n",
    "param8"
   ]
  },
  {
   "cell_type": "code",
   "execution_count": 258,
   "metadata": {
    "collapsed": false
   },
   "outputs": [
    {
     "name": "stdout",
     "output_type": "stream",
     "text": [
      "  574 ±   7.9    3.51 ±  0.01\n",
      "  454 ±  22.7    0.82 ±  0.07\n",
      " 3998 ± 303.3    0.00 ± 7e-05\n"
     ]
    }
   ],
   "source": [
    "for i in range(3):\n",
    "    print('{:5.0f} ± {:5.1f}  {:6.2f} ± {:5.1g}'.format(*[param0[k][i] for k in                                                             \n",
    "                                                            ('ampl', 'ampl_std', 'tau', 'tau_std')]))"
   ]
  },
  {
   "cell_type": "code",
   "execution_count": 259,
   "metadata": {
    "collapsed": false,
    "deletable": true,
    "editable": true
   },
   "outputs": [
    {
     "name": "stdout",
     "output_type": "stream",
     "text": [
      " 1940 ±  40.3    3.51 ±  0.04\n",
      " 1795 ±  56.6    0.84 ±  0.04\n",
      "26374 ± 778.8    0.00 ± 2e-08\n"
     ]
    }
   ],
   "source": [
    "for i in range(3):\n",
    "    print('{:5.0f} ± {:5.1f}  {:6.2f} ± {:5.1g}'.format(*[param8[k][i] for k in                                                             \n",
    "                                                            ('ampl', 'ampl_std', 'tau', 'tau_std')]))"
   ]
  },
  {
   "cell_type": "code",
   "execution_count": 248,
   "metadata": {
    "collapsed": false,
    "deletable": true,
    "editable": true
   },
   "outputs": [
    {
     "data": {
      "text/plain": [
       "defaultdict(list,\n",
       "            {'ampl': [1713.807, 2296.607, 610.1302],\n",
       "             'ampl_std': [16.42336, 38.78942, 26.09385],\n",
       "             'tau': [3.793765, 5.489616e-07, 0.5257378],\n",
       "             'tau_std': [0.02203813, 3.041786e-08, 0.05005014]})"
      ]
     },
     "execution_count": 248,
     "metadata": {},
     "output_type": "execute_result"
    }
   ],
   "source": [
    "param0 = get_params(s_2015_09_04_s7_ch0)\n",
    "param0"
   ]
  },
  {
   "cell_type": "code",
   "execution_count": 249,
   "metadata": {
    "collapsed": false,
    "deletable": true,
    "editable": true
   },
   "outputs": [
    {
     "data": {
      "text/plain": [
       "defaultdict(list,\n",
       "            {'ampl': [2942.798, 14637.24, 1103.165],\n",
       "             'ampl_std': [179.1387, 1399.626, 129.5558],\n",
       "             'tau': [3.977432, 4.186025e-06, 1.038931],\n",
       "             'tau_std': [0.07880588, 4.426261e-07, 0.1751343]})"
      ]
     },
     "execution_count": 249,
     "metadata": {},
     "output_type": "execute_result"
    }
   ],
   "source": [
    "param8 = get_params(s_2015_09_04_s7_ch8)\n",
    "param8"
   ]
  },
  {
   "cell_type": "code",
   "execution_count": 250,
   "metadata": {
    "collapsed": false,
    "deletable": true,
    "editable": true
   },
   "outputs": [
    {
     "name": "stdout",
     "output_type": "stream",
     "text": [
      " 1714 ±  16.4    3.79 ±  0.02\n",
      " 2297 ±  38.8    0.00 ± 3e-08\n",
      "  610 ±  26.1    0.53 ±  0.05\n"
     ]
    }
   ],
   "source": [
    "for i in range(3):\n",
    "    print('{:5.0f} ± {:5.1f}  {:6.2f} ± {:5.1g}'.format(*[param0[k][i] for k in                                                             \n",
    "                                                            ('ampl', 'ampl_std', 'tau', 'tau_std')]))"
   ]
  },
  {
   "cell_type": "code",
   "execution_count": 251,
   "metadata": {
    "collapsed": false,
    "deletable": true,
    "editable": true
   },
   "outputs": [
    {
     "name": "stdout",
     "output_type": "stream",
     "text": [
      " 2943 ± 179.1    3.98 ±  0.08\n",
      "14637 ± 1399.6    0.00 ± 4e-07\n",
      " 1103 ± 129.6    1.04 ±   0.2\n"
     ]
    }
   ],
   "source": [
    "for i in range(3):\n",
    "    print('{:5.0f} ± {:5.1f}  {:6.2f} ± {:5.1g}'.format(*[param8[k][i] for k in                                                             \n",
    "                                                            ('ampl', 'ampl_std', 'tau', 'tau_std')]))"
   ]
  },
  {
   "cell_type": "code",
   "execution_count": null,
   "metadata": {
    "collapsed": true
   },
   "outputs": [],
   "source": []
  }
 ],
 "metadata": {
  "kernelspec": {
   "display_name": "Python [default]",
   "language": "python",
   "name": "python3"
  },
  "language_info": {
   "codemirror_mode": {
    "name": "ipython",
    "version": 3
   },
   "file_extension": ".py",
   "mimetype": "text/x-python",
   "name": "python",
   "nbconvert_exporter": "python",
   "pygments_lexer": "ipython3",
   "version": "3.5.1"
  },
  "nav_menu": {},
  "toc": {
   "navigate_menu": true,
   "number_sections": true,
   "sideBar": true,
   "threshold": 6,
   "toc_cell": false,
   "toc_section_display": "block",
   "toc_window_display": false
  }
 },
 "nbformat": 4,
 "nbformat_minor": 1
}
